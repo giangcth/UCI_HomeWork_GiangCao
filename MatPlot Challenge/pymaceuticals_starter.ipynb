{
 "cells": [
  {
   "cell_type": "markdown",
   "metadata": {},
   "source": [
    "## Observations and Insights "
   ]
  },
  {
   "cell_type": "markdown",
   "metadata": {},
   "source": []
  },
  {
   "cell_type": "code",
   "execution_count": 1,
   "metadata": {},
   "outputs": [
    {
     "data": {
      "text/html": [
       "<div>\n",
       "<style scoped>\n",
       "    .dataframe tbody tr th:only-of-type {\n",
       "        vertical-align: middle;\n",
       "    }\n",
       "\n",
       "    .dataframe tbody tr th {\n",
       "        vertical-align: top;\n",
       "    }\n",
       "\n",
       "    .dataframe thead th {\n",
       "        text-align: right;\n",
       "    }\n",
       "</style>\n",
       "<table border=\"1\" class=\"dataframe\">\n",
       "  <thead>\n",
       "    <tr style=\"text-align: right;\">\n",
       "      <th></th>\n",
       "      <th>Mouse ID</th>\n",
       "      <th>Drug Regimen</th>\n",
       "      <th>Sex</th>\n",
       "      <th>Age_months</th>\n",
       "      <th>Weight (g)</th>\n",
       "      <th>Timepoint</th>\n",
       "      <th>Tumor Volume (mm3)</th>\n",
       "      <th>Metastatic Sites</th>\n",
       "    </tr>\n",
       "  </thead>\n",
       "  <tbody>\n",
       "    <tr>\n",
       "      <th>0</th>\n",
       "      <td>k403</td>\n",
       "      <td>Ramicane</td>\n",
       "      <td>Male</td>\n",
       "      <td>21</td>\n",
       "      <td>16</td>\n",
       "      <td>0</td>\n",
       "      <td>45.000000</td>\n",
       "      <td>0</td>\n",
       "    </tr>\n",
       "    <tr>\n",
       "      <th>1</th>\n",
       "      <td>k403</td>\n",
       "      <td>Ramicane</td>\n",
       "      <td>Male</td>\n",
       "      <td>21</td>\n",
       "      <td>16</td>\n",
       "      <td>5</td>\n",
       "      <td>38.825898</td>\n",
       "      <td>0</td>\n",
       "    </tr>\n",
       "    <tr>\n",
       "      <th>2</th>\n",
       "      <td>k403</td>\n",
       "      <td>Ramicane</td>\n",
       "      <td>Male</td>\n",
       "      <td>21</td>\n",
       "      <td>16</td>\n",
       "      <td>10</td>\n",
       "      <td>35.014271</td>\n",
       "      <td>1</td>\n",
       "    </tr>\n",
       "    <tr>\n",
       "      <th>3</th>\n",
       "      <td>k403</td>\n",
       "      <td>Ramicane</td>\n",
       "      <td>Male</td>\n",
       "      <td>21</td>\n",
       "      <td>16</td>\n",
       "      <td>15</td>\n",
       "      <td>34.223992</td>\n",
       "      <td>1</td>\n",
       "    </tr>\n",
       "    <tr>\n",
       "      <th>4</th>\n",
       "      <td>k403</td>\n",
       "      <td>Ramicane</td>\n",
       "      <td>Male</td>\n",
       "      <td>21</td>\n",
       "      <td>16</td>\n",
       "      <td>20</td>\n",
       "      <td>32.997729</td>\n",
       "      <td>1</td>\n",
       "    </tr>\n",
       "    <tr>\n",
       "      <th>...</th>\n",
       "      <td>...</td>\n",
       "      <td>...</td>\n",
       "      <td>...</td>\n",
       "      <td>...</td>\n",
       "      <td>...</td>\n",
       "      <td>...</td>\n",
       "      <td>...</td>\n",
       "      <td>...</td>\n",
       "    </tr>\n",
       "    <tr>\n",
       "      <th>1888</th>\n",
       "      <td>z969</td>\n",
       "      <td>Naftisol</td>\n",
       "      <td>Male</td>\n",
       "      <td>9</td>\n",
       "      <td>30</td>\n",
       "      <td>25</td>\n",
       "      <td>63.145652</td>\n",
       "      <td>2</td>\n",
       "    </tr>\n",
       "    <tr>\n",
       "      <th>1889</th>\n",
       "      <td>z969</td>\n",
       "      <td>Naftisol</td>\n",
       "      <td>Male</td>\n",
       "      <td>9</td>\n",
       "      <td>30</td>\n",
       "      <td>30</td>\n",
       "      <td>65.841013</td>\n",
       "      <td>3</td>\n",
       "    </tr>\n",
       "    <tr>\n",
       "      <th>1890</th>\n",
       "      <td>z969</td>\n",
       "      <td>Naftisol</td>\n",
       "      <td>Male</td>\n",
       "      <td>9</td>\n",
       "      <td>30</td>\n",
       "      <td>35</td>\n",
       "      <td>69.176246</td>\n",
       "      <td>4</td>\n",
       "    </tr>\n",
       "    <tr>\n",
       "      <th>1891</th>\n",
       "      <td>z969</td>\n",
       "      <td>Naftisol</td>\n",
       "      <td>Male</td>\n",
       "      <td>9</td>\n",
       "      <td>30</td>\n",
       "      <td>40</td>\n",
       "      <td>70.314904</td>\n",
       "      <td>4</td>\n",
       "    </tr>\n",
       "    <tr>\n",
       "      <th>1892</th>\n",
       "      <td>z969</td>\n",
       "      <td>Naftisol</td>\n",
       "      <td>Male</td>\n",
       "      <td>9</td>\n",
       "      <td>30</td>\n",
       "      <td>45</td>\n",
       "      <td>73.867845</td>\n",
       "      <td>4</td>\n",
       "    </tr>\n",
       "  </tbody>\n",
       "</table>\n",
       "<p>1893 rows × 8 columns</p>\n",
       "</div>"
      ],
      "text/plain": [
       "     Mouse ID Drug Regimen   Sex  Age_months  Weight (g)  Timepoint  \\\n",
       "0        k403     Ramicane  Male          21          16          0   \n",
       "1        k403     Ramicane  Male          21          16          5   \n",
       "2        k403     Ramicane  Male          21          16         10   \n",
       "3        k403     Ramicane  Male          21          16         15   \n",
       "4        k403     Ramicane  Male          21          16         20   \n",
       "...       ...          ...   ...         ...         ...        ...   \n",
       "1888     z969     Naftisol  Male           9          30         25   \n",
       "1889     z969     Naftisol  Male           9          30         30   \n",
       "1890     z969     Naftisol  Male           9          30         35   \n",
       "1891     z969     Naftisol  Male           9          30         40   \n",
       "1892     z969     Naftisol  Male           9          30         45   \n",
       "\n",
       "      Tumor Volume (mm3)  Metastatic Sites  \n",
       "0              45.000000                 0  \n",
       "1              38.825898                 0  \n",
       "2              35.014271                 1  \n",
       "3              34.223992                 1  \n",
       "4              32.997729                 1  \n",
       "...                  ...               ...  \n",
       "1888           63.145652                 2  \n",
       "1889           65.841013                 3  \n",
       "1890           69.176246                 4  \n",
       "1891           70.314904                 4  \n",
       "1892           73.867845                 4  \n",
       "\n",
       "[1893 rows x 8 columns]"
      ]
     },
     "execution_count": 1,
     "metadata": {},
     "output_type": "execute_result"
    }
   ],
   "source": [
    "# Dependencies and Setup\n",
    "import matplotlib.pyplot as plt\n",
    "import pandas as pd\n",
    "import scipy.stats as st\n",
    "from scipy.stats import linregress\n",
    "import numpy as np\n",
    "\n",
    "\n",
    "# Study data files\n",
    "mouse_metadata_path = \"data/Mouse_metadata.csv\"\n",
    "study_results_path = \"data/Study_results.csv\"\n",
    "\n",
    "# Read the mouse data and the study results\n",
    "mouse_metadata = pd.read_csv(mouse_metadata_path)\n",
    "study_results = pd.read_csv(study_results_path)\n",
    "\n",
    "study_results\n",
    "\n",
    "# Combine the data into a single dataset\n",
    "\n",
    "mouse_data_study = pd.merge(mouse_metadata, study_results, how=\"outer\", on=[\"Mouse ID\"])\n",
    "\n",
    "# Display the data table for preview\n",
    "\n",
    "mouse_data_study\n",
    "\n"
   ]
  },
  {
   "cell_type": "code",
   "execution_count": 2,
   "metadata": {},
   "outputs": [
    {
     "data": {
      "text/plain": [
       "249"
      ]
     },
     "execution_count": 2,
     "metadata": {},
     "output_type": "execute_result"
    }
   ],
   "source": [
    "# Checking the number of mice.\n",
    "\n",
    "mouse_total = len(mouse_data_study[\"Mouse ID\"].unique())\n",
    "\n",
    "mouse_total"
   ]
  },
  {
   "cell_type": "code",
   "execution_count": 3,
   "metadata": {},
   "outputs": [
    {
     "data": {
      "text/plain": [
       "array(['g989'], dtype=object)"
      ]
     },
     "execution_count": 3,
     "metadata": {},
     "output_type": "execute_result"
    }
   ],
   "source": [
    "# Getting the duplicate mice by ID number that shows up for Mouse ID and Timepoint. \n",
    "\n",
    "mouseID_list = mouse_data_study[[\"Mouse ID\",\"Timepoint\"]]\n",
    "\n",
    "mouseID_list= pd.DataFrame(mouseID_list)\n",
    "\n",
    "mouseID_list[\"is_duplicate\"] = mouseID_list.duplicated(keep = False)\n",
    "\n",
    "mouseID_dupli_list = mouseID_list[(mouseID_list[\"is_duplicate\"] != False)]\n",
    "                                   \n",
    "mouseID_duplicateList = mouseID_dupli_list[\"Mouse ID\"].unique()\n",
    "\n",
    "mouseID_duplicateList"
   ]
  },
  {
   "cell_type": "code",
   "execution_count": 4,
   "metadata": {},
   "outputs": [
    {
     "data": {
      "text/html": [
       "<div>\n",
       "<style scoped>\n",
       "    .dataframe tbody tr th:only-of-type {\n",
       "        vertical-align: middle;\n",
       "    }\n",
       "\n",
       "    .dataframe tbody tr th {\n",
       "        vertical-align: top;\n",
       "    }\n",
       "\n",
       "    .dataframe thead th {\n",
       "        text-align: right;\n",
       "    }\n",
       "</style>\n",
       "<table border=\"1\" class=\"dataframe\">\n",
       "  <thead>\n",
       "    <tr style=\"text-align: right;\">\n",
       "      <th></th>\n",
       "      <th>Mouse ID</th>\n",
       "      <th>Drug Regimen</th>\n",
       "      <th>Sex</th>\n",
       "      <th>Age_months</th>\n",
       "      <th>Weight (g)</th>\n",
       "      <th>Timepoint</th>\n",
       "      <th>Tumor Volume (mm3)</th>\n",
       "      <th>Metastatic Sites</th>\n",
       "    </tr>\n",
       "  </thead>\n",
       "  <tbody>\n",
       "    <tr>\n",
       "      <th>908</th>\n",
       "      <td>g989</td>\n",
       "      <td>Propriva</td>\n",
       "      <td>Female</td>\n",
       "      <td>21</td>\n",
       "      <td>26</td>\n",
       "      <td>0</td>\n",
       "      <td>45.000000</td>\n",
       "      <td>0</td>\n",
       "    </tr>\n",
       "    <tr>\n",
       "      <th>909</th>\n",
       "      <td>g989</td>\n",
       "      <td>Propriva</td>\n",
       "      <td>Female</td>\n",
       "      <td>21</td>\n",
       "      <td>26</td>\n",
       "      <td>0</td>\n",
       "      <td>45.000000</td>\n",
       "      <td>0</td>\n",
       "    </tr>\n",
       "    <tr>\n",
       "      <th>910</th>\n",
       "      <td>g989</td>\n",
       "      <td>Propriva</td>\n",
       "      <td>Female</td>\n",
       "      <td>21</td>\n",
       "      <td>26</td>\n",
       "      <td>5</td>\n",
       "      <td>48.786801</td>\n",
       "      <td>0</td>\n",
       "    </tr>\n",
       "    <tr>\n",
       "      <th>911</th>\n",
       "      <td>g989</td>\n",
       "      <td>Propriva</td>\n",
       "      <td>Female</td>\n",
       "      <td>21</td>\n",
       "      <td>26</td>\n",
       "      <td>5</td>\n",
       "      <td>47.570392</td>\n",
       "      <td>0</td>\n",
       "    </tr>\n",
       "    <tr>\n",
       "      <th>912</th>\n",
       "      <td>g989</td>\n",
       "      <td>Propriva</td>\n",
       "      <td>Female</td>\n",
       "      <td>21</td>\n",
       "      <td>26</td>\n",
       "      <td>10</td>\n",
       "      <td>51.745156</td>\n",
       "      <td>0</td>\n",
       "    </tr>\n",
       "    <tr>\n",
       "      <th>913</th>\n",
       "      <td>g989</td>\n",
       "      <td>Propriva</td>\n",
       "      <td>Female</td>\n",
       "      <td>21</td>\n",
       "      <td>26</td>\n",
       "      <td>10</td>\n",
       "      <td>49.880528</td>\n",
       "      <td>0</td>\n",
       "    </tr>\n",
       "    <tr>\n",
       "      <th>914</th>\n",
       "      <td>g989</td>\n",
       "      <td>Propriva</td>\n",
       "      <td>Female</td>\n",
       "      <td>21</td>\n",
       "      <td>26</td>\n",
       "      <td>15</td>\n",
       "      <td>51.325852</td>\n",
       "      <td>1</td>\n",
       "    </tr>\n",
       "    <tr>\n",
       "      <th>915</th>\n",
       "      <td>g989</td>\n",
       "      <td>Propriva</td>\n",
       "      <td>Female</td>\n",
       "      <td>21</td>\n",
       "      <td>26</td>\n",
       "      <td>15</td>\n",
       "      <td>53.442020</td>\n",
       "      <td>0</td>\n",
       "    </tr>\n",
       "    <tr>\n",
       "      <th>916</th>\n",
       "      <td>g989</td>\n",
       "      <td>Propriva</td>\n",
       "      <td>Female</td>\n",
       "      <td>21</td>\n",
       "      <td>26</td>\n",
       "      <td>20</td>\n",
       "      <td>55.326122</td>\n",
       "      <td>1</td>\n",
       "    </tr>\n",
       "    <tr>\n",
       "      <th>917</th>\n",
       "      <td>g989</td>\n",
       "      <td>Propriva</td>\n",
       "      <td>Female</td>\n",
       "      <td>21</td>\n",
       "      <td>26</td>\n",
       "      <td>20</td>\n",
       "      <td>54.657650</td>\n",
       "      <td>1</td>\n",
       "    </tr>\n",
       "    <tr>\n",
       "      <th>918</th>\n",
       "      <td>g989</td>\n",
       "      <td>Propriva</td>\n",
       "      <td>Female</td>\n",
       "      <td>21</td>\n",
       "      <td>26</td>\n",
       "      <td>25</td>\n",
       "      <td>56.045564</td>\n",
       "      <td>1</td>\n",
       "    </tr>\n",
       "    <tr>\n",
       "      <th>919</th>\n",
       "      <td>g989</td>\n",
       "      <td>Propriva</td>\n",
       "      <td>Female</td>\n",
       "      <td>21</td>\n",
       "      <td>26</td>\n",
       "      <td>30</td>\n",
       "      <td>59.082294</td>\n",
       "      <td>1</td>\n",
       "    </tr>\n",
       "    <tr>\n",
       "      <th>920</th>\n",
       "      <td>g989</td>\n",
       "      <td>Propriva</td>\n",
       "      <td>Female</td>\n",
       "      <td>21</td>\n",
       "      <td>26</td>\n",
       "      <td>35</td>\n",
       "      <td>62.570880</td>\n",
       "      <td>2</td>\n",
       "    </tr>\n",
       "  </tbody>\n",
       "</table>\n",
       "</div>"
      ],
      "text/plain": [
       "    Mouse ID Drug Regimen     Sex  Age_months  Weight (g)  Timepoint  \\\n",
       "908     g989     Propriva  Female          21          26          0   \n",
       "909     g989     Propriva  Female          21          26          0   \n",
       "910     g989     Propriva  Female          21          26          5   \n",
       "911     g989     Propriva  Female          21          26          5   \n",
       "912     g989     Propriva  Female          21          26         10   \n",
       "913     g989     Propriva  Female          21          26         10   \n",
       "914     g989     Propriva  Female          21          26         15   \n",
       "915     g989     Propriva  Female          21          26         15   \n",
       "916     g989     Propriva  Female          21          26         20   \n",
       "917     g989     Propriva  Female          21          26         20   \n",
       "918     g989     Propriva  Female          21          26         25   \n",
       "919     g989     Propriva  Female          21          26         30   \n",
       "920     g989     Propriva  Female          21          26         35   \n",
       "\n",
       "     Tumor Volume (mm3)  Metastatic Sites  \n",
       "908           45.000000                 0  \n",
       "909           45.000000                 0  \n",
       "910           48.786801                 0  \n",
       "911           47.570392                 0  \n",
       "912           51.745156                 0  \n",
       "913           49.880528                 0  \n",
       "914           51.325852                 1  \n",
       "915           53.442020                 0  \n",
       "916           55.326122                 1  \n",
       "917           54.657650                 1  \n",
       "918           56.045564                 1  \n",
       "919           59.082294                 1  \n",
       "920           62.570880                 2  "
      ]
     },
     "execution_count": 4,
     "metadata": {},
     "output_type": "execute_result"
    }
   ],
   "source": [
    "# Optional: Get all the data for the duplicate mouse ID. \n",
    "\n",
    "mouseID_dupli_details = mouse_data_study[(mouse_data_study[\"Mouse ID\"] == \"g989\")]\n",
    "\n",
    "mouseID_dupli_details           "
   ]
  },
  {
   "cell_type": "code",
   "execution_count": 5,
   "metadata": {},
   "outputs": [
    {
     "data": {
      "text/plain": [
       "1880"
      ]
     },
     "execution_count": 5,
     "metadata": {},
     "output_type": "execute_result"
    }
   ],
   "source": [
    "# Create a clean DataFrame by dropping the duplicate mouse by its ID.\n",
    "\n",
    "mousestudy_cleandata = mouse_data_study[(mouse_data_study[\"Mouse ID\"] != \"g989\")]\n",
    "\n",
    "\n",
    "len(mousestudy_cleandata)"
   ]
  },
  {
   "cell_type": "code",
   "execution_count": 6,
   "metadata": {},
   "outputs": [
    {
     "data": {
      "text/plain": [
       "248"
      ]
     },
     "execution_count": 6,
     "metadata": {},
     "output_type": "execute_result"
    }
   ],
   "source": [
    "# Checking the number of mice in the clean DataFrame.\n",
    "\n",
    "mouse_count = len(mousestudy_cleandata[\"Mouse ID\"].unique())\n",
    "\n",
    "mouse_count"
   ]
  },
  {
   "cell_type": "markdown",
   "metadata": {},
   "source": [
    "## Summary Statistics"
   ]
  },
  {
   "cell_type": "code",
   "execution_count": 7,
   "metadata": {},
   "outputs": [
    {
     "name": "stdout",
     "output_type": "stream",
     "text": [
      "COMMENTS:\n",
      "Capomulin is out of two Drug regimen having lowest Tumor growth volume, but has little higher ratios of variance, STD and\n",
      "standard error of Tumor Volume than Ramicane. Capomulin is still perform much better than 8 other drug regimen.\n"
     ]
    }
   ],
   "source": [
    "# Generate a summary statistics table of mean, median, variance, standard deviation, and SEM of the tumor volume for each regimen\n",
    "\n",
    "# Use groupby and summary statistical methods to calculate the following properties of each drug regimen: \n",
    "# mean, median, variance, standard deviation, and SEM of the tumor volume. \n",
    "# Assemble the resulting series into a single summary dataframe.\n",
    "\n",
    "regimen_data = mousestudy_cleandata.groupby([\"Drug Regimen\"])\n",
    "regimen_list= mousestudy_cleandata[\"Drug Regimen\"].unique()\n",
    "\n",
    "mean_regimen = regimen_data[\"Tumor Volume (mm3)\"].mean()\n",
    "median_regimen = regimen_data[\"Tumor Volume (mm3)\"].median()\n",
    "Variance_regimen = regimen_data[\"Tumor Volume (mm3)\"].var()\n",
    "STD_regimen = regimen_data[\"Tumor Volume (mm3)\"].std()\n",
    "sems_regimen = regimen_data[\"Tumor Volume (mm3)\"].sem()\n",
    "\n",
    "\n",
    "\n",
    "# sems_regimen = [sem(regimen_data[\"Tumor Volume (mm3)\"])\n",
    "\n",
    "Regimen_Summary = pd.DataFrame({\"Drug Name\": regimen_list, \"Average of Tumor Volume (mm3)\": mean_regimen, \n",
    "                                \"Median of  Tumor Volume (mm3)\": median_regimen, \n",
    "                                \"Variance of  Tumor Volume (mm3)\":Variance_regimen,\n",
    "                                \"STD of  Tumor Volume (mm3)\":STD_regimen,\n",
    "                                \"Standard Error of  Tumor Volume (mm3)\":sems_regimen} )\n",
    "\n",
    "del Regimen_Summary[\"Drug Name\"]\n",
    "\n",
    "Regimen_Summary\n",
    "\n",
    "print(f\"COMMENTS:\")\n",
    "print(f\"Capomulin is out of two Drug regimen having lowest Tumor growth volume, but has little higher ratios of variance, STD and\") \n",
    "print(f\"standard error of Tumor Volume than Ramicane. Capomulin is still perform much better than 8 other drug regimen.\")\n",
    "\n"
   ]
  },
  {
   "cell_type": "code",
   "execution_count": 8,
   "metadata": {},
   "outputs": [
    {
     "data": {
      "text/html": [
       "<div>\n",
       "<style scoped>\n",
       "    .dataframe tbody tr th:only-of-type {\n",
       "        vertical-align: middle;\n",
       "    }\n",
       "\n",
       "    .dataframe tbody tr th {\n",
       "        vertical-align: top;\n",
       "    }\n",
       "\n",
       "    .dataframe thead th {\n",
       "        text-align: right;\n",
       "    }\n",
       "</style>\n",
       "<table border=\"1\" class=\"dataframe\">\n",
       "  <thead>\n",
       "    <tr style=\"text-align: right;\">\n",
       "      <th></th>\n",
       "      <th>mean</th>\n",
       "      <th>median</th>\n",
       "      <th>var</th>\n",
       "      <th>std</th>\n",
       "      <th>sem</th>\n",
       "    </tr>\n",
       "    <tr>\n",
       "      <th>Drug Regimen</th>\n",
       "      <th></th>\n",
       "      <th></th>\n",
       "      <th></th>\n",
       "      <th></th>\n",
       "      <th></th>\n",
       "    </tr>\n",
       "  </thead>\n",
       "  <tbody>\n",
       "    <tr>\n",
       "      <th>Capomulin</th>\n",
       "      <td>40.675741</td>\n",
       "      <td>41.557809</td>\n",
       "      <td>24.947764</td>\n",
       "      <td>4.994774</td>\n",
       "      <td>0.329346</td>\n",
       "    </tr>\n",
       "    <tr>\n",
       "      <th>Ceftamin</th>\n",
       "      <td>52.591172</td>\n",
       "      <td>51.776157</td>\n",
       "      <td>39.290177</td>\n",
       "      <td>6.268188</td>\n",
       "      <td>0.469821</td>\n",
       "    </tr>\n",
       "    <tr>\n",
       "      <th>Infubinol</th>\n",
       "      <td>52.884795</td>\n",
       "      <td>51.820584</td>\n",
       "      <td>43.128684</td>\n",
       "      <td>6.567243</td>\n",
       "      <td>0.492236</td>\n",
       "    </tr>\n",
       "    <tr>\n",
       "      <th>Ketapril</th>\n",
       "      <td>55.235638</td>\n",
       "      <td>53.698743</td>\n",
       "      <td>68.553577</td>\n",
       "      <td>8.279709</td>\n",
       "      <td>0.603860</td>\n",
       "    </tr>\n",
       "    <tr>\n",
       "      <th>Naftisol</th>\n",
       "      <td>54.331565</td>\n",
       "      <td>52.509285</td>\n",
       "      <td>66.173479</td>\n",
       "      <td>8.134708</td>\n",
       "      <td>0.596466</td>\n",
       "    </tr>\n",
       "    <tr>\n",
       "      <th>Placebo</th>\n",
       "      <td>54.033581</td>\n",
       "      <td>52.288934</td>\n",
       "      <td>61.168083</td>\n",
       "      <td>7.821003</td>\n",
       "      <td>0.581331</td>\n",
       "    </tr>\n",
       "    <tr>\n",
       "      <th>Propriva</th>\n",
       "      <td>52.320930</td>\n",
       "      <td>50.446266</td>\n",
       "      <td>43.852013</td>\n",
       "      <td>6.622085</td>\n",
       "      <td>0.544332</td>\n",
       "    </tr>\n",
       "    <tr>\n",
       "      <th>Ramicane</th>\n",
       "      <td>40.216745</td>\n",
       "      <td>40.673236</td>\n",
       "      <td>23.486704</td>\n",
       "      <td>4.846308</td>\n",
       "      <td>0.320955</td>\n",
       "    </tr>\n",
       "    <tr>\n",
       "      <th>Stelasyn</th>\n",
       "      <td>54.233149</td>\n",
       "      <td>52.431737</td>\n",
       "      <td>59.450562</td>\n",
       "      <td>7.710419</td>\n",
       "      <td>0.573111</td>\n",
       "    </tr>\n",
       "    <tr>\n",
       "      <th>Zoniferol</th>\n",
       "      <td>53.236507</td>\n",
       "      <td>51.818479</td>\n",
       "      <td>48.533355</td>\n",
       "      <td>6.966589</td>\n",
       "      <td>0.516398</td>\n",
       "    </tr>\n",
       "  </tbody>\n",
       "</table>\n",
       "</div>"
      ],
      "text/plain": [
       "                   mean     median        var       std       sem\n",
       "Drug Regimen                                                     \n",
       "Capomulin     40.675741  41.557809  24.947764  4.994774  0.329346\n",
       "Ceftamin      52.591172  51.776157  39.290177  6.268188  0.469821\n",
       "Infubinol     52.884795  51.820584  43.128684  6.567243  0.492236\n",
       "Ketapril      55.235638  53.698743  68.553577  8.279709  0.603860\n",
       "Naftisol      54.331565  52.509285  66.173479  8.134708  0.596466\n",
       "Placebo       54.033581  52.288934  61.168083  7.821003  0.581331\n",
       "Propriva      52.320930  50.446266  43.852013  6.622085  0.544332\n",
       "Ramicane      40.216745  40.673236  23.486704  4.846308  0.320955\n",
       "Stelasyn      54.233149  52.431737  59.450562  7.710419  0.573111\n",
       "Zoniferol     53.236507  51.818479  48.533355  6.966589  0.516398"
      ]
     },
     "execution_count": 8,
     "metadata": {},
     "output_type": "execute_result"
    }
   ],
   "source": [
    "# Generate a summary statistics table of mean, median, variance, standard deviation, and SEM of the tumor volume for each regimen\n",
    "\n",
    "# Using the aggregation method, produce the same summary statistics in a single line\n",
    "\n",
    "aggreation_result = regimen_data[\"Tumor Volume (mm3)\"].agg(['mean', 'median', 'var', 'std', 'sem'])\n",
    "\n",
    "aggreation_result\n"
   ]
  },
  {
   "cell_type": "markdown",
   "metadata": {},
   "source": [
    "## Bar and Pie Charts"
   ]
  },
  {
   "cell_type": "code",
   "execution_count": 9,
   "metadata": {},
   "outputs": [
    {
     "data": {
      "image/png": "[encoded data removed]",
      "text/plain": [
       "<Figure size 1440x360 with 1 Axes>"
      ]
     },
     "metadata": {
      "needs_background": "light"
     },
     "output_type": "display_data"
    },
    {
     "name": "stdout",
     "output_type": "stream",
     "text": [
      "COMMENTS:\n",
      "Capomulin & Ramicane have highest number of unique mice tested. so, their results seem more reliable.\n"
     ]
    }
   ],
   "source": [
    "# Generate a bar plot showing the total number of unique mice tested on each drug regimen using pandas.\n",
    "regimen_mousestudy_data = mousestudy_cleandata[[\"Drug Regimen\", \"Mouse ID\"]]\n",
    "                            \n",
    "\n",
    "mouseIDcount_per_regimen = regimen_mousestudy_data[\"Drug Regimen\"].value_counts()\n",
    "\n",
    "\n",
    "mouseIDcount_per_regimen.plot.bar(legend=False, figsize=(20,5), rot =0)\n",
    "\n",
    "plt.title(\"Total of Unique Mice testes per Drug Regimen\")\n",
    "\n",
    "plt.tight_layout()\n",
    "\n",
    "plt.grid(True)\n",
    "plt.show()\n",
    "\n",
    "\n",
    "mouseIDcount_per_regimen\n",
    "\n",
    "print(f\"COMMENTS:\")\n",
    "print(\"Capomulin & Ramicane have highest number of unique mice tested. so, their results seem more reliable.\")\n"
   ]
  },
  {
   "cell_type": "code",
   "execution_count": 10,
   "metadata": {},
   "outputs": [
    {
     "data": {
      "image/png": "[encoded data removed]",
      "text/plain": [
       "<Figure size 1440x360 with 1 Axes>"
      ]
     },
     "metadata": {
      "needs_background": "light"
     },
     "output_type": "display_data"
    }
   ],
   "source": [
    "# Generate a bar plot showing the total number of unique mice tested on each drug regimen using pyplot.\n",
    "\n",
    "x_axis = np.arange(len(regimen_list))\n",
    "tick_regimens = [value for value in x_axis]\n",
    "\n",
    "plt.figure(figsize=(20,5))\n",
    "plt.bar(x_axis, mouseIDcount_per_regimen, color='g', alpha=0.5, align=\"center\")\n",
    "plt.xticks(tick_regimens, regimen_list, rotation=\"horizontal\")\n",
    "\n",
    "plt.title(\"Total of Unique Mice testes per Drug Regimen\")\n",
    "plt.xlabel(\"Regimen Name\")\n",
    "plt.ylabel(\"Total of Unique Mice\")\n",
    "\n",
    "plt.tight_layout()\n",
    "\n",
    "plt.grid(True)\n",
    "plt.show()\n"
   ]
  },
  {
   "cell_type": "code",
   "execution_count": 11,
   "metadata": {},
   "outputs": [
    {
     "name": "stdout",
     "output_type": "stream",
     "text": [
      "COMMENTS:\n",
      "the distribution of male and female is allocated close to equally,\n",
      "hence it is can say that there is no effect of sex in test performance.\n"
     ]
    },
    {
     "data": {
      "image/png": "[encoded data removed]",
      "text/plain": [
       "<Figure size 432x288 with 1 Axes>"
      ]
     },
     "metadata": {},
     "output_type": "display_data"
    }
   ],
   "source": [
    "# Generate a pie plot showing the distribution of female versus male mice using pyplot pandas\n",
    "\n",
    "mousesex_data = mousestudy_cleandata[[\"Mouse ID\", \"Sex\"]]\n",
    "                            \n",
    "mousesex_unique = mousesex_data.drop_duplicates(keep=\"last\") \n",
    "mousesex_unique = mousesex_unique.groupby([\"Sex\"])\n",
    "mousesex_count= mousesex_unique[\"Mouse ID\"].count()\n",
    "\n",
    "labels = [\"Females\", \"Males\"]\n",
    "\n",
    "sizes = mousesex_count\n",
    "\n",
    "colors = [\"orange\", \"lightskyblue\"]\n",
    "\n",
    "explode = (0.1, 0)\n",
    "\n",
    "plt.pie(sizes, explode=explode, labels=labels, colors=colors,\n",
    "        autopct=\"%1.1f%%\", shadow=True, startangle=140)\n",
    "\n",
    "plt.axis(\"equal\")\n",
    "\n",
    "plt.savefig('piechart1')\n",
    "\n",
    "print(f\"COMMENTS:\")\n",
    "print(f\"the distribution of male and female is allocated close to equally,\") \n",
    "print(f\"hence it is can say that there is no effect of sex in test performance.\")"
   ]
  },
  {
   "cell_type": "code",
   "execution_count": 12,
   "metadata": {},
   "outputs": [
    {
     "data": {
      "image/png": "[encoded data removed]",
      "text/plain": [
       "<Figure size 360x360 with 1 Axes>"
      ]
     },
     "metadata": {},
     "output_type": "display_data"
    },
    {
     "data": {
      "text/plain": [
       "<Figure size 432x288 with 0 Axes>"
      ]
     },
     "metadata": {},
     "output_type": "display_data"
    }
   ],
   "source": [
    "# Generate a pie plot showing the distribution of female versus male mice using  pandas\n",
    "\n",
    "sex_summary = pd.DataFrame({\"Sex\":labels, \"Mouse ID Count\": mousesex_count})\n",
    "\n",
    "explode = (0.1, 0)\n",
    "\n",
    "mousesex_pie = sex_summary.plot.pie(y='Mouse ID Count', explode = explode, figsize=(5, 5), autopct=\"%1.1f%%\",shadow=True, startangle=180 )\n",
    "mousesex_pie.set_title(\"Summary of Mouse Sex\")\n",
    "mousesex_pie.set_ylabel(\"Mouse ID Count\")\n",
    "\n",
    "plt.show()\n",
    "\n",
    "plt.savefig('piechart2')"
   ]
  },
  {
   "cell_type": "markdown",
   "metadata": {},
   "source": [
    "## Quartiles, Outliers and Boxplots"
   ]
  },
  {
   "cell_type": "code",
   "execution_count": 13,
   "metadata": {},
   "outputs": [],
   "source": [
    "#CODE 01\n",
    "# Calculate the final tumor volume of each mouse across four of the treatment regimens:  \n",
    "# Capomulin, Ramicane, Infubinol, and Ceftamin\n",
    "\n",
    "regimen_list = [\"Capomulin\", \"Ramicane\", \"Infubinol\", \"Ceftamin\"]\n",
    "\n",
    "bestregime_study = mousestudy_cleandata[mousestudy_cleandata[\"Drug Regimen\"].isin([\"Capomulin\", \"Ramicane\", \"Infubinol\", \"Ceftamin\"])]\n",
    "\n",
    "# Start by getting the last (greatest) timepoint for each mouse\n",
    "\n",
    "bestregimen_lastpoint = bestregime_study.groupby([\"Mouse ID\"])[\"Timepoint\"].max()\n",
    "\n",
    "# Merge this group df with the original dataframe to get the tumor volume at the last timepoint\n",
    "\n",
    "bestregimen_lastmerge = pd.merge(bestregimen_lastpoint, mousestudy_cleandata, on=(\"Mouse ID\",\"Timepoint\"),how=\"left\")\n",
    "bestregimen_lastmerge = bestregimen_lastmerge.rename(columns= {\"Timepoint\":\"Last Timepoint\"})\n",
    "\n",
    "bestregimen_tumorvol = bestregimen_lastmerge[[\"Drug Regimen\", \"Mouse ID\", \"Tumor Volume (mm3)\", \"Last Timepoint\"]]\n",
    "\n"
   ]
  },
  {
   "cell_type": "code",
   "execution_count": 14,
   "metadata": {},
   "outputs": [
    {
     "name": "stdout",
     "output_type": "stream",
     "text": [
      "Capomulin potential outliers could be values below 20.70456164999999 and above 51.83201549 could be outliers.\n",
      "Ramicane potential outliers could be values below 17.912664470000003 and above 54.30681135 could be outliers.\n",
      "Infubinol potential outliers could be values below 36.83290494999999 and above 82.74144559000001 could be outliers.\n",
      "Ceftamin potential outliers could be values below 25.355449580000002 and above 87.66645829999999 could be outliers.\n",
      "COMMENTS:\n",
      "Capomulin and Ramicane have tighest range of lower and upper bounds. So if there is no or acceptable numbers of outliers\n",
      "are found, the drug regimens results disperse closely around the mean/median at more consistant distances\n"
     ]
    }
   ],
   "source": [
    "# CODE 01\n",
    "# Put treatments into a list for for loop (and later for plot labels)\n",
    "\n",
    "regimen_list = [\"Capomulin\", \"Ramicane\", \"Infubinol\", \"Ceftamin\"]\n",
    "\n",
    "\n",
    "# Create empty list to fill with tumor vol data (for plotting)\n",
    "\n",
    "tumorvol_perregimen = []\n",
    "\n",
    "# Calculate the IQR and quantitatively determine if there are any potential outliers. \n",
    "# Locate the rows which contain mice on each drug and get the tumor volumes & add subset:\n",
    "    \n",
    "for regimen in regimen_list:\n",
    "    \n",
    "         \n",
    "    tumorvol_perregimen.append(bestregimen_tumorvol.loc[bestregimen_tumorvol[\"Drug Regimen\"] == regimen,\n",
    "                                                         \"Tumor Volume (mm3)\"]) \n",
    "\n",
    "# Determine outliers using upper and lower bounds\n",
    "\n",
    "    regimen_outliers = []\n",
    "    regimenlen_outliers = []\n",
    "    \n",
    "    for x in tumorvol_perregimen:\n",
    "\n",
    "        quartiles = x.quantile([.25,.5,.75])\n",
    "        lowerq = quartiles[0.25]\n",
    "        upperq = quartiles[0.75]\n",
    "        iqr = upperq-lowerq\n",
    "\n",
    "        lower_bound = lowerq - (1.5*iqr)\n",
    "        upper_bound = upperq + (1.5*iqr)\n",
    "\n",
    "                              \n",
    "    print(f\"{regimen} potential outliers could be values below {lower_bound} and above {upper_bound} could be outliers.\")\n",
    "print('COMMENTS:')\n",
    "print(f\"Capomulin and Ramicane have tighest range of lower and upper bounds. So if there is no or acceptable numbers of outliers\")\n",
    "print(f\"are found, the drug regimens results disperse closely around the mean/median at more consistant distances\")\n"
   ]
  },
  {
   "cell_type": "code",
   "execution_count": 15,
   "metadata": {},
   "outputs": [],
   "source": [
    "# CODE 02\n",
    "capomulin_df = mousestudy_cleandata.loc[mousestudy_cleandata[\"Drug Regimen\"] ==\"Capomulin\",:]\n",
    "ramicane_df = mousestudy_cleandata.loc[mousestudy_cleandata[\"Drug Regimen\"] ==\"Ramicane\",:]\n",
    "infubinol_df = mousestudy_cleandata.loc[mousestudy_cleandata[\"Drug Regimen\"] ==\"Infubinol\",:]\n",
    "ceftamin_df = mousestudy_cleandata.loc[mousestudy_cleandata[\"Drug Regimen\"] ==\"Ceftamin\",:]\n",
    "\n",
    "# Start by getting the last (greatest) timepoint for each mouse\n",
    "\n",
    "capomulin_lastpoint = capomulin_df.groupby([\"Mouse ID\"])[\"Timepoint\"].max()\n",
    "ramicane_lastpoint = ramicane_df.groupby([\"Mouse ID\"])[\"Timepoint\"].max()\n",
    "infubinol_lastpoint = infubinol_df.groupby([\"Mouse ID\"])[\"Timepoint\"].max()\n",
    "ceftamin_lastpoint = ceftamin_df.groupby([\"Mouse ID\"])[\"Timepoint\"].max()\n",
    "\n",
    "# Merge this group df with the original dataframe to get the tumor volume at the last timepoint\n",
    "\n",
    "capomulin_lastmerge = pd.merge(capomulin_lastpoint, mousestudy_cleandata, on=(\"Mouse ID\",\"Timepoint\"),how=\"left\")\n",
    "capomulin_lastmerge = capomulin_lastmerge.rename(columns= {\"Timepoint\":\"Last Timepoint\"})\n",
    "\n",
    "ramicane_lastmerge = pd.merge(ramicane_lastpoint, mousestudy_cleandata, on=(\"Mouse ID\",\"Timepoint\"),how=\"left\")\n",
    "ramicane_lastmerge = ramicane_lastmerge.rename(columns= {\"Timepoint\":\"Last Timepoint\"})\n",
    "\n",
    "infubinol_lastmerge = pd.merge(infubinol_lastpoint, mousestudy_cleandata, on=(\"Mouse ID\",\"Timepoint\"),how=\"left\")\n",
    "infubinol_lastmerge = infubinol_lastmerge.rename(columns= {\"Timepoint\":\"Last Timepoint\"})\n",
    "\n",
    "ceftamin_lastmerge = pd.merge(ceftamin_lastpoint, mousestudy_cleandata, on=(\"Mouse ID\",\"Timepoint\"),how=\"left\")\n",
    "ceftamin_lastmerge = ceftamin_lastmerge.rename(columns= {\"Timepoint\":\"Last Timepoint\"})\n"
   ]
  },
  {
   "cell_type": "code",
   "execution_count": 16,
   "metadata": {},
   "outputs": [
    {
     "name": "stdout",
     "output_type": "stream",
     "text": [
      "Capomulin potential outliers could be values below 20.70456164999999 and above 51.83201549 could be outliers.\n",
      "Ramicane potential outliers could be values below 17.912664470000003 and above 54.30681135 could be outliers.\n",
      "Infubinol potential outliers could be values below 36.83290494999999 and above 82.74144559000001 could be outliers.\n",
      "Ceftamin potential outliers could be values below 25.355449580000002 and above 87.66645829999999 could be outliers.\n"
     ]
    }
   ],
   "source": [
    "# CODE 02\n",
    "# Capomulin:\n",
    "\n",
    "tumorvol_capomulin = capomulin_lastmerge[\"Tumor Volume (mm3)\"]\n",
    "\n",
    "quartiles = tumorvol_capomulin.quantile([.25,.5,.75])\n",
    "lowerq = quartiles[0.25]\n",
    "upperq = quartiles[0.75]\n",
    "iqr = upperq-lowerq\n",
    "\n",
    "#print(f\"The lower quartile of temperatures is: {lowerq}\")\n",
    "#print(f\"The upper quartile of temperatures is: {upperq}\")\n",
    "#print(f\"The interquartile range of temperatures is: {iqr}\")\n",
    "#print(f\"The the median of temperatures is: {quartiles[0.5]} \")\n",
    "\n",
    "lower_bound_capomulin = lowerq - (1.5*iqr)\n",
    "upper_bound_capomulin = upperq + (1.5*iqr)\n",
    "print(f\"Capomulin potential outliers could be values below {lower_bound_capomulin} and above {upper_bound_capomulin} could be outliers.\")\n",
    "\n",
    "# Ramicane:\n",
    "tumorvol_ramicane = ramicane_lastmerge[\"Tumor Volume (mm3)\"]\n",
    "\n",
    "quartiles = tumorvol_ramicane.quantile([.25,.5,.75])\n",
    "lowerq = quartiles[0.25]\n",
    "upperq = quartiles[0.75]\n",
    "iqr = upperq-lowerq\n",
    "\n",
    "#print(f\"The lower quartile of temperatures is: {lowerq}\")\n",
    "#print(f\"The upper quartile of temperatures is: {upperq}\")\n",
    "#print(f\"The interquartile range of temperatures is: {iqr}\")\n",
    "#print(f\"The the median of temperatures is: {quartiles[0.5]} \")\n",
    "\n",
    "lower_bound_ramicane = lowerq - (1.5*iqr)\n",
    "upper_bound_ramicane = upperq + (1.5*iqr)\n",
    "print(f\"Ramicane potential outliers could be values below {lower_bound_ramicane} and above {upper_bound_ramicane} could be outliers.\")\n",
    "\n",
    "# Infubinol:\n",
    "tumorvol_infubinol = infubinol_lastmerge[\"Tumor Volume (mm3)\"]\n",
    "\n",
    "quartiles = tumorvol_infubinol.quantile([.25,.5,.75])\n",
    "lowerq = quartiles[0.25]\n",
    "upperq = quartiles[0.75]\n",
    "iqr = upperq-lowerq\n",
    "\n",
    "#print(f\"The lower quartile of temperatures is: {lowerq}\")\n",
    "#print(f\"The upper quartile of temperatures is: {upperq}\")\n",
    "#print(f\"The interquartile range of temperatures is: {iqr}\")\n",
    "#print(f\"The the median of temperatures is: {quartiles[0.5]} \")\n",
    "\n",
    "lower_bound_infubinol = lowerq - (1.5*iqr)\n",
    "upper_bound_infubinol = upperq + (1.5*iqr)\n",
    "print(f\"Infubinol potential outliers could be values below {lower_bound_infubinol} and above {upper_bound_infubinol} could be outliers.\")\n",
    "\n",
    "# Ceftamin:\n",
    "tumorvol_ceftamin = ceftamin_lastmerge[\"Tumor Volume (mm3)\"]\n",
    "\n",
    "quartiles = tumorvol_ceftamin.quantile([.25,.5,.75])\n",
    "lowerq = quartiles[0.25]\n",
    "upperq = quartiles[0.75]\n",
    "iqr = upperq-lowerq\n",
    "\n",
    "#print(f\"The lower quartile of temperatures is: {lowerq}\")\n",
    "#print(f\"The upper quartile of temperatures is: {upperq}\")\n",
    "#print(f\"The interquartile range of temperatures is: {iqr}\")\n",
    "#print(f\"The the median of temperatures is: {quartiles[0.5]} \")\n",
    "\n",
    "lower_bound_ceftamin = lowerq - (1.5*iqr)\n",
    "upper_bound_ceftamin = upperq + (1.5*iqr)\n",
    "print(f\"Ceftamin potential outliers could be values below {lower_bound_ceftamin} and above {upper_bound_ceftamin} could be outliers.\")"
   ]
  },
  {
   "cell_type": "code",
   "execution_count": 17,
   "metadata": {},
   "outputs": [
    {
     "name": "stdout",
     "output_type": "stream",
     "text": [
      "COMMENTS:\n",
      "Infubinol has 01 outlier. We can double check whether it is outlier of upper or lower bound.\n"
     ]
    }
   ],
   "source": [
    "# CODE 02\n",
    "# liST OF records per Drug Regimen can be outliers:\n",
    "\n",
    "capomulin_outliers = capomulin_lastmerge.loc[(capomulin_lastmerge[\"Tumor Volume (mm3)\"] > upper_bound_capomulin) \n",
    "                                             | (capomulin_lastmerge[\"Tumor Volume (mm3)\"] < lower_bound_capomulin) ,:]\n",
    "capomulin = len(capomulin_outliers)\n",
    "\n",
    "ramicane_outliers = ramicane_lastmerge.loc[(ramicane_lastmerge[\"Tumor Volume (mm3)\"] > upper_bound_ramicane) \n",
    "                                           | (ramicane_lastmerge[\"Tumor Volume (mm3)\"] < lower_bound_ramicane) ,:]\n",
    "ramicane = len(ramicane_outliers)\n",
    "\n",
    "infubinol_outliers = infubinol_lastmerge.loc[(infubinol_lastmerge[\"Tumor Volume (mm3)\"] > upper_bound_infubinol) \n",
    "                                             | (infubinol_lastmerge[\"Tumor Volume (mm3)\"] < lower_bound_infubinol) ,:]\n",
    "infubinol = len(infubinol_outliers)\n",
    "\n",
    "ceftamin_outliers = ceftamin_lastmerge.loc[(ceftamin_lastmerge[\"Tumor Volume (mm3)\"] > upper_bound_ceftamin) \n",
    "                                           | (ceftamin_lastmerge[\"Tumor Volume (mm3)\"] < lower_bound_ceftamin) ,:]\n",
    "ceftamin = len(ceftamin_outliers)\n",
    "\n",
    "outliers_list = [capomulin,ramicane,infubinol,ceftamin]\n",
    "outliers_list\n",
    "\n",
    "print('COMMENTS:')\n",
    "print('Infubinol has 01 outlier. We can double check whether it is outlier of upper or lower bound.')\n"
   ]
  },
  {
   "cell_type": "code",
   "execution_count": 18,
   "metadata": {},
   "outputs": [
    {
     "data": {
      "text/html": [
       "<div>\n",
       "<style scoped>\n",
       "    .dataframe tbody tr th:only-of-type {\n",
       "        vertical-align: middle;\n",
       "    }\n",
       "\n",
       "    .dataframe tbody tr th {\n",
       "        vertical-align: top;\n",
       "    }\n",
       "\n",
       "    .dataframe thead th {\n",
       "        text-align: right;\n",
       "    }\n",
       "</style>\n",
       "<table border=\"1\" class=\"dataframe\">\n",
       "  <thead>\n",
       "    <tr style=\"text-align: right;\">\n",
       "      <th></th>\n",
       "      <th>Mouse ID</th>\n",
       "      <th>Last Timepoint</th>\n",
       "      <th>Drug Regimen</th>\n",
       "      <th>Sex</th>\n",
       "      <th>Age_months</th>\n",
       "      <th>Weight (g)</th>\n",
       "      <th>Tumor Volume (mm3)</th>\n",
       "      <th>Metastatic Sites</th>\n",
       "    </tr>\n",
       "  </thead>\n",
       "  <tbody>\n",
       "    <tr>\n",
       "      <th>5</th>\n",
       "      <td>c326</td>\n",
       "      <td>5</td>\n",
       "      <td>Infubinol</td>\n",
       "      <td>Female</td>\n",
       "      <td>18</td>\n",
       "      <td>25</td>\n",
       "      <td>36.321346</td>\n",
       "      <td>0</td>\n",
       "    </tr>\n",
       "  </tbody>\n",
       "</table>\n",
       "</div>"
      ],
      "text/plain": [
       "  Mouse ID  Last Timepoint Drug Regimen     Sex  Age_months  Weight (g)  \\\n",
       "5     c326               5    Infubinol  Female          18          25   \n",
       "\n",
       "   Tumor Volume (mm3)  Metastatic Sites  \n",
       "5           36.321346                 0  "
      ]
     },
     "execution_count": 18,
     "metadata": {},
     "output_type": "execute_result"
    }
   ],
   "source": [
    "infubinol_outliers"
   ]
  },
  {
   "cell_type": "code",
   "execution_count": 19,
   "metadata": {},
   "outputs": [
    {
     "data": {
      "image/png": "[encoded data removed]",
      "text/plain": [
       "<Figure size 432x288 with 1 Axes>"
      ]
     },
     "metadata": {
      "needs_background": "light"
     },
     "output_type": "display_data"
    },
    {
     "name": "stdout",
     "output_type": "stream",
     "text": [
      "COMMENTS:\n",
      "Infubinol has 01 outlier in lower bound whereas other three regimen are all in the range of lower-upper bounds of quartiles.\n",
      "it can conclude that Capolumin & Ramicane have more reliable test results\n"
     ]
    }
   ],
   "source": [
    "# CODE 01\n",
    "# Generate a box plot of the final tumor volume of each mouse across four regimens of interest\n",
    "\n",
    "TumorsVol_boxplot = tumorvol_perregimen\n",
    "\n",
    "fig, axis = plt.subplots()\n",
    "axis.set_title(\"Tumors Vol (mm3)\")\n",
    "axis.set_ylabel(\"Tumor Volume (mm3) at Last Timepoint\")\n",
    "axis.set_xlabel(\"Regimen Name\")\n",
    "\n",
    "axis.boxplot(TumorsVol_boxplot, labels=regimen_list)\n",
    "\n",
    "plt.savefig('boxplot')\n",
    "\n",
    "plt.grid(True)\n",
    "plt.show()\n",
    "\n",
    "\n",
    "\n",
    "\n",
    "print('COMMENTS:')\n",
    "print('Infubinol has 01 outlier in lower bound whereas other three regimen are all in the range of lower-upper bounds of quartiles.')\n",
    "print('it can conclude that Capolumin & Ramicane have more reliable test results')"
   ]
  },
  {
   "cell_type": "markdown",
   "metadata": {},
   "source": [
    "## Line and Scatter Plots"
   ]
  },
  {
   "cell_type": "code",
   "execution_count": 20,
   "metadata": {
    "scrolled": true
   },
   "outputs": [
    {
     "data": {
      "image/png": "[encoded data removed]",
      "text/plain": [
       "<Figure size 432x288 with 1 Axes>"
      ]
     },
     "metadata": {
      "needs_background": "light"
     },
     "output_type": "display_data"
    },
    {
     "name": "stdout",
     "output_type": "stream",
     "text": [
      "COMMENTS:\n",
      "It seems kindly that the turmor growth volumn decrease when the timepoint increase.\n",
      "That is when application time is longer, the signal that drug regimen turn to be more effectively controlling over the tumor growth.\n"
     ]
    }
   ],
   "source": [
    "# Generate a line plot of tumor volume vs. time point for a mouse treated with Capomulin\n",
    "\n",
    "capomulin_df = mousestudy_cleandata.loc[mousestudy_cleandata[\"Drug Regimen\"] ==\"Capomulin\",:]\n",
    "capomulin_lastpoint = capomulin_df.groupby([\"Mouse ID\"])[\"Timepoint\"].max()\n",
    "capomulin_lastmerge = pd.merge(capomulin_lastpoint, mousestudy_cleandata, on=(\"Mouse ID\",\"Timepoint\"),how=\"left\")\n",
    "capomulin_lastmerge = capomulin_lastmerge.rename(columns= {\"Timepoint\":\"Last Timepoint\"})\n",
    "\n",
    "mouseID = \"b128\"\n",
    "\n",
    "mouseID_sole_capomulin = capomulin_df.loc[capomulin_df[\"Mouse ID\"] == mouseID,:]\n",
    "\n",
    "x_timepoint = mouseID_sole_capomulin[\"Timepoint\"]\n",
    "y_turmorvol = mouseID_sole_capomulin[\"Tumor Volume (mm3)\"]\n",
    "\n",
    "plt.title(f'Capomulin treatmeant of mouse {mouseID}')\n",
    "plt.plot(x_timepoint, y_turmorvol,linewidth=2, markersize=12)\n",
    "plt.xlabel('Timepoint (Days)')\n",
    "plt.ylabel('Tumor Volume (mm3)')\n",
    "\n",
    "plt.savefig('linechart')\n",
    "\n",
    "plt.grid(True)\n",
    "plt.show()\n",
    "\n",
    "print('COMMENTS:')\n",
    "print('It seems kindly that the turmor growth volumn decrease when the timepoint increase.')\n",
    "print('That is when application time is longer, the signal that drug regimen turn to be more effectively controlling over the tumor growth.')\n"
   ]
  },
  {
   "cell_type": "code",
   "execution_count": 21,
   "metadata": {},
   "outputs": [
    {
     "data": {
      "image/png": "[encoded data removed]",
      "text/plain": [
       "<Figure size 432x288 with 1 Axes>"
      ]
     },
     "metadata": {
      "needs_background": "light"
     },
     "output_type": "display_data"
    },
    {
     "name": "stdout",
     "output_type": "stream",
     "text": [
      "COMMENTS:\n",
      "At first glance, the tumor growth rate correlates positively with mouse weight.\n"
     ]
    }
   ],
   "source": [
    "# Generate a scatter plot of average tumor volume vs. mouse weight for the Capomulin regimen\n",
    "\n",
    "\n",
    "MouseID_group = capomulin_df.groupby([\"Mouse ID\"])\n",
    "\n",
    "MouseID_Weight = MouseID_group[\"Weight (g)\"].unique().astype(int)\n",
    "\n",
    "MouseID_TumorVol_average = MouseID_group[\"Tumor Volume (mm3)\"].mean().astype(int)\n",
    "\n",
    "plt.scatter(MouseID_Weight, MouseID_TumorVol_average)\n",
    "\n",
    "plt.xlabel(\"Weight (g)\")\n",
    "plt.ylabel('Average Tumor Volume (mm3)')\n",
    "\n",
    "plt.savefig('scatterplot')\n",
    "\n",
    "plt.grid(True)\n",
    "plt.show()\n",
    "\n",
    "print('COMMENTS:')\n",
    "print('At first glance, the tumor growth rate correlates positively with mouse weight.')\n"
   ]
  },
  {
   "cell_type": "markdown",
   "metadata": {},
   "source": [
    "## Correlation and Regression"
   ]
  },
  {
   "cell_type": "code",
   "execution_count": 22,
   "metadata": {},
   "outputs": [
    {
     "name": "stdout",
     "output_type": "stream",
     "text": [
      "The correlation between mouse weight and average tumor volume is 0.84\n",
      "COMMENTS:\n",
      "The coorelation coefficiency ratio (close to +1.0) reconfirms the visual finding that tumor growth rate correlates positively and greatly strong with mouse weight.\n"
     ]
    }
   ],
   "source": [
    "# Calculate the correlation coefficient and linear regression model \n",
    "# for mouse weight and average tumor volume for the Capomulin regimen\n",
    "\n",
    "weight_tumorvol_avg_df = pd.DataFrame({\"Weight (g)\": MouseID_Weight, \"Average Tumor Vol (mm3)\": MouseID_TumorVol_average})\n",
    "\n",
    "corr=round(st.pearsonr(weight_tumorvol_avg_df[\"Weight (g)\"],weight_tumorvol_avg_df[\"Average Tumor Vol (mm3)\"])[0],2)\n",
    "\n",
    "print(f\"The correlation between mouse weight and average tumor volume is {corr}\")\n",
    "\n",
    "print('COMMENTS:')\n",
    "print('The coorelation coefficiency ratio (close to +1.0) reconfirms the visual finding that tumor growth rate correlates positively and greatly strong with mouse weight.')"
   ]
  },
  {
   "cell_type": "code",
   "execution_count": 23,
   "metadata": {},
   "outputs": [
    {
     "data": {
      "image/png": "[encoded data removed]",
      "text/plain": [
       "<Figure size 432x288 with 1 Axes>"
      ]
     },
     "metadata": {
      "needs_background": "light"
     },
     "output_type": "display_data"
    }
   ],
   "source": [
    "#linear regression model for mouse weight and average tumor volume for the Capomulin regimen\n",
    "\n",
    "x_values = weight_tumorvol_avg_df[\"Weight (g)\"]\n",
    "y_values = weight_tumorvol_avg_df[\"Average Tumor Vol (mm3)\"]\n",
    "(slope, intercept, rvalue, pvalue, stderr) = linregress(x_values, y_values)\n",
    "regress_values = x_values * slope + intercept\n",
    "line_eq = \"y = \" + str(round(slope,2)) + \"x + \" + str(round(intercept,2))\n",
    "\n",
    "plt.scatter(x_values,y_values)\n",
    "plt.plot(x_values,regress_values,\"r-\")\n",
    "\n",
    "plt.annotate(line_eq, (3,10), fontsize=15,color=\"red\")\n",
    "\n",
    "plt.xlabel('Mouse Weight (g)')\n",
    "plt.ylabel('Average Tumor Vol (mm3)')\n",
    "\n",
    "plt.grid(True)\n",
    "\n",
    "plt.show()\n",
    "\n"
   ]
  },
  {
   "cell_type": "code",
   "execution_count": null,
   "metadata": {},
   "outputs": [],
   "source": []
  }
 ],
 "metadata": {
  "anaconda-cloud": {},
  "kernelspec": {
   "display_name": "Python [conda env:pythonData] *",
   "language": "python",
   "name": "conda-env-pythonData-py"
  },
  "language_info": {
   "codemirror_mode": {
    "name": "ipython",
    "version": 3
   },
   "file_extension": ".py",
   "mimetype": "text/x-python",
   "name": "python",
   "nbconvert_exporter": "python",
   "pygments_lexer": "ipython3",
   "version": "3.8.5"
  }
 },
 "nbformat": 4,
 "nbformat_minor": 4
}

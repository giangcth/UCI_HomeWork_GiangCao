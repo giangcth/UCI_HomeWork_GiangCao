{
 "cells": [
  {
   "cell_type": "markdown",
   "metadata": {},
   "source": [
    "# WeatherPy\n",
    "----\n",
    "\n",
    "#### Note\n",
    "* Instructions have been included for each segment. You do not have to follow them exactly, but they are included to help you think through the steps."
   ]
  },
  {
   "cell_type": "code",
   "execution_count": 1,
   "metadata": {
    "scrolled": true
   },
   "outputs": [
    {
     "name": "stdout",
     "output_type": "stream",
     "text": [
      "Requirement already satisfied: citipy in c:\\users\\gicao\\anaconda3\\envs\\pythondata\\lib\\site-packages (0.0.5)\n",
      "Requirement already satisfied: kdtree>=0.12 in c:\\users\\gicao\\anaconda3\\envs\\pythondata\\lib\\site-packages (from citipy) (0.16)\n",
      "Collecting package metadata (current_repodata.json): ...working... done\n",
      "Solving environment: ...working... done\n",
      "\n",
      "# All requested packages already installed.\n",
      "\n"
     ]
    },
    {
     "name": "stderr",
     "output_type": "stream",
     "text": [
      "\n",
      "\n",
      "==> WARNING: A newer version of conda exists. <==\n",
      "  current version: 4.8.5\n",
      "  latest version: 4.9.0\n",
      "\n",
      "Please update conda by running\n",
      "\n",
      "    $ conda update -n base conda\n",
      "\n",
      "\n",
      "Config option `kernel_spec_manager_class` not recognized by `EnableNBExtensionApp`.\n",
      "Enabling notebook extension jupyter-gmaps/extension...\n",
      "      - Validating: ok\n"
     ]
    }
   ],
   "source": [
    "!pip install citipy\n",
    "!conda install -c conda-forge gmaps\n",
    "!jupyter nbextension enable --py gmaps\n"
   ]
  },
  {
   "cell_type": "code",
   "execution_count": 2,
   "metadata": {
    "scrolled": true
   },
   "outputs": [],
   "source": [
    "# Dependencies\n",
    "import os\n",
    "import time\n",
    "import random\n",
    "import pandas as pd\n",
    "import matplotlib.pyplot as plt\n",
    "import requests\n",
    "import json\n",
    "from scipy.stats import linregress\n",
    "import scipy.stats as st\n",
    "from pprint import pprint\n",
    "from citipy import citipy\n",
    "import gmaps\n",
    "import gmaps.datasets\n",
    "import numpy as np\n",
    "\n",
    "# Citipy & gmaps API Keys\n",
    "from api_keys import (weather_api_key, gkey)\n",
    "\n",
    "# Configure gmaps\n",
    "gmaps.configure(api_key=gkey)"
   ]
  },
  {
   "cell_type": "markdown",
   "metadata": {},
   "source": [
    "## Generate Cities List"
   ]
  },
  {
   "cell_type": "code",
   "execution_count": 3,
   "metadata": {},
   "outputs": [
    {
     "data": {
      "text/plain": [
       "589"
      ]
     },
     "execution_count": 3,
     "metadata": {},
     "output_type": "execute_result"
    }
   ],
   "source": [
    "# List for holding lat_lngs and cities\n",
    "lat_lon = []\n",
    "cities = []\n",
    "\n",
    "# Create a set of random lat and lon combinations\n",
    "lats = np.random.uniform(low=-90.000, high=90.000, size=1500)\n",
    "lons = np.random.uniform(low=-180.000, high=180.000, size=1500)\n",
    "lat_lon = zip(lats, lons)\n",
    "\n",
    "# Identify nearest city for each lat, lng combination\n",
    "for lat_lon in lat_lon:\n",
    "    city = citipy.nearest_city(lat_lon[0], lat_lon[1]).city_name\n",
    "    \n",
    "    # If the city is unique, then add it to a our cities list\n",
    "    if city not in cities:\n",
    "        cities.append(city)\n",
    "\n",
    "# Print the city count to confirm sufficient count\n",
    "len(cities)\n"
   ]
  },
  {
   "cell_type": "markdown",
   "metadata": {},
   "source": [
    "### Perform API Calls\n",
    "* Perform a weather check on each city using a series of successive API calls.\n",
    "* Include a print log of each city as it'sbeing processed (with the city number and city name).\n"
   ]
  },
  {
   "cell_type": "code",
   "execution_count": 4,
   "metadata": {
    "scrolled": true
   },
   "outputs": [],
   "source": [
    "city_name_list = []\n",
    "city_id_list =[]\n",
    "country_list = []\n",
    "lat_list = []\n",
    "lon_list = []\n",
    "\n",
    "cloudiness_list = []\n",
    "date_list = []\n",
    "humidity_list = []\n",
    "date_temp_list = []\n",
    "max_temp_list = []\n",
    "wind_speed_list = []\n",
    "\n",
    "index_counter = 0\n"
   ]
  },
  {
   "cell_type": "code",
   "execution_count": null,
   "metadata": {},
   "outputs": [
    {
     "name": "stdout",
     "output_type": "stream",
     "text": [
      "Beginning Data Retrieval \n",
      "-----------------------------\n",
      "Processing Record 1 : ribeira grande\n",
      "Processing Record 2 : bandarbeyla\n",
      "Processing Record 3 : nikolskoye\n",
      "Processing Record 4 : santa clara\n",
      "Processing Record 5 : mataura\n",
      "Processing Record 6 : qaanaaq\n",
      "Processing Record 7 : hobart\n",
      "Processing Record 8 : saskylakh\n",
      "Processing Record 9 : busselton\n",
      "City not found. Skipping...\n",
      "Processing Record 10 : ushuaia\n",
      "Processing Record 11 : dikson\n",
      "Processing Record 12 : ponta do sol\n",
      "Processing Record 13 : iqaluit\n",
      "Processing Record 14 : punta arenas\n",
      "Processing Record 15 : cape town\n",
      "Processing Record 16 : atuona\n",
      "Processing Record 17 : mahibadhoo\n",
      "Processing Record 18 : ulladulla\n",
      "Processing Record 19 : predivinsk\n",
      "Processing Record 20 : san cristobal\n",
      "Processing Record 21 : rikitea\n",
      "Processing Record 22 : anadyr\n",
      "Processing Record 23 : hithadhoo\n",
      "City not found. Skipping...\n",
      "Processing Record 24 : saint-philippe\n",
      "City not found. Skipping...\n",
      "Processing Record 25 : pevek\n",
      "Processing Record 26 : empalme\n",
      "Processing Record 27 : kahului\n",
      "Processing Record 28 : ust-koksa\n",
      "City not found. Skipping...\n",
      "Processing Record 29 : boende\n",
      "Processing Record 30 : bredasdorp\n",
      "Processing Record 31 : chuy\n",
      "Processing Record 32 : jamestown\n",
      "Processing Record 33 : mozarlandia\n",
      "Processing Record 34 : tuktoyaktuk\n",
      "Processing Record 35 : labrea\n",
      "Processing Record 36 : roald\n",
      "Processing Record 37 : klyuchi\n",
      "Processing Record 38 : tifton\n",
      "Processing Record 39 : butaritari\n",
      "City not found. Skipping...\n",
      "City not found. Skipping...\n",
      "Processing Record 40 : ahuimanu\n",
      "Processing Record 41 : vaini\n",
      "City not found. Skipping...\n",
      "Processing Record 42 : diego de almagro\n",
      "Processing Record 43 : necochea\n",
      "Processing Record 44 : avarua\n",
      "Processing Record 45 : puerto ayora\n",
      "Processing Record 46 : albany\n",
      "Processing Record 47 : manokwari\n",
      "Processing Record 48 : hilo\n",
      "City not found. Skipping...\n",
      "Processing Record 49 : barcelos\n",
      "City not found. Skipping...\n",
      "Processing Record 50 : port alfred\n",
      "Processing Record 51 : corozal\n",
      "Processing Record 52 : bluff\n",
      "Processing Record 53 : beysehir\n",
      "Processing Record 54 : pangnirtung\n",
      "Processing Record 55 : kuznetsk\n",
      "Processing Record 56 : tazovskiy\n",
      "Processing Record 57 : carnarvon\n",
      "Processing Record 58 : norman wells\n",
      "City not found. Skipping...\n",
      "City not found. Skipping...\n",
      "Processing Record 59 : victoria\n",
      "Processing Record 60 : olafsvik\n",
      "Processing Record 61 : hasaki\n",
      "Processing Record 62 : yellowknife\n",
      "Processing Record 63 : eureka\n",
      "Processing Record 64 : new norfolk\n",
      "Processing Record 65 : sun valley\n",
      "Processing Record 66 : hermanus\n",
      "Processing Record 67 : tarakan\n",
      "Processing Record 68 : tateyama\n",
      "Processing Record 69 : aklavik\n",
      "Processing Record 70 : baiao\n",
      "Processing Record 71 : bathsheba\n",
      "Processing Record 72 : edd\n",
      "Processing Record 73 : huilong\n",
      "Processing Record 74 : tezu\n",
      "City not found. Skipping...\n",
      "Processing Record 75 : sao joao da barra\n",
      "Processing Record 76 : longyearbyen\n",
      "Processing Record 77 : cehegin\n",
      "Processing Record 78 : terrace\n",
      "Processing Record 79 : bethel\n",
      "City not found. Skipping...\n",
      "Processing Record 80 : bambous virieux\n",
      "Processing Record 81 : torbay\n",
      "Processing Record 82 : buala\n",
      "City not found. Skipping...\n",
      "Processing Record 83 : panacan\n",
      "Processing Record 84 : ponferrada\n",
      "Processing Record 85 : port elizabeth\n",
      "Processing Record 86 : lubon\n",
      "Processing Record 87 : les cayes\n",
      "Processing Record 88 : ostrovnoy\n",
      "Processing Record 89 : nizhneudinsk\n",
      "City not found. Skipping...\n",
      "Processing Record 90 : avera\n",
      "Processing Record 91 : coihaique\n",
      "Processing Record 92 : carutapera\n",
      "Processing Record 93 : la ronge\n",
      "Processing Record 94 : sao filipe\n",
      "Processing Record 95 : san patricio\n",
      "Processing Record 96 : pisco\n",
      "Processing Record 97 : saint-augustin\n",
      "Processing Record 98 : lebu\n",
      "Processing Record 99 : muncar\n",
      "Processing Record 100 : awbari\n",
      "Processing Record 101 : vila franca do campo\n",
      "Processing Record 102 : podosinovets\n",
      "Processing Record 103 : beringovskiy\n",
      "Processing Record 104 : hamilton\n",
      "Processing Record 105 : vestmanna\n",
      "Processing Record 106 : ust-uda\n",
      "Processing Record 107 : trairi\n",
      "Processing Record 108 : leshukonskoye\n",
      "City not found. Skipping...\n",
      "Processing Record 109 : yumen\n",
      "Processing Record 110 : severo-kurilsk\n",
      "Processing Record 111 : boyolangu\n",
      "Processing Record 112 : padang\n",
      "Processing Record 113 : clyde river\n",
      "Processing Record 114 : nouadhibou\n",
      "Processing Record 115 : kavieng\n",
      "Processing Record 116 : mahebourg\n",
      "Processing Record 117 : port hedland\n",
      "Processing Record 118 : rurrenabaque\n",
      "Processing Record 119 : felipe carrillo puerto\n",
      "Processing Record 120 : lavrentiya\n",
      "City not found. Skipping...\n",
      "Processing Record 121 : ismailia\n",
      "Processing Record 122 : esperance\n",
      "Processing Record 123 : lilongwe\n",
      "Processing Record 124 : grindavik\n",
      "Processing Record 125 : hambantota\n",
      "Processing Record 126 : katsuura\n",
      "Processing Record 127 : magdalena\n",
      "Processing Record 128 : half moon bay\n",
      "Processing Record 129 : takoradi\n",
      "Processing Record 130 : banda aceh\n",
      "Processing Record 131 : port augusta\n",
      "Processing Record 132 : narsaq\n",
      "Processing Record 133 : laguna\n",
      "Processing Record 134 : suntar\n",
      "Processing Record 135 : omsukchan\n",
      "Processing Record 136 : burnie\n",
      "Processing Record 137 : namatanai\n",
      "Processing Record 138 : ahipara\n",
      "Processing Record 139 : thompson\n",
      "Processing Record 140 : kaeo\n",
      "City not found. Skipping...\n",
      "City not found. Skipping...\n",
      "Processing Record 141 : pontianak\n",
      "Processing Record 142 : paita\n",
      "Processing Record 143 : souillac\n",
      "Processing Record 144 : touros\n",
      "Processing Record 145 : coahuayana\n",
      "Processing Record 146 : batemans bay\n",
      "Processing Record 147 : grand-santi\n",
      "Processing Record 148 : east london\n",
      "Processing Record 149 : sydney mines\n",
      "City not found. Skipping...\n",
      "Processing Record 150 : castro\n",
      "Processing Record 151 : sapele\n",
      "Processing Record 152 : neiafu\n",
      "Processing Record 153 : lagoa\n",
      "City not found. Skipping...\n",
      "Processing Record 154 : barrow\n",
      "Processing Record 155 : rio gallegos\n",
      "Processing Record 156 : vila velha\n",
      "Processing Record 157 : college\n",
      "Processing Record 158 : kapaa\n",
      "Processing Record 159 : provideniya\n",
      "Processing Record 160 : raudeberg\n",
      "Processing Record 161 : deori khas\n",
      "Processing Record 162 : birnin kebbi\n",
      "Processing Record 163 : whitehorse\n",
      "Processing Record 164 : kati\n",
      "Processing Record 165 : kruisfontein\n",
      "Processing Record 166 : magadan\n",
      "Processing Record 167 : kamaishi\n",
      "Processing Record 168 : poum\n",
      "Processing Record 169 : puerto escondido\n",
      "Processing Record 170 : chapais\n",
      "Processing Record 171 : saint anthony\n",
      "Processing Record 172 : kokopo\n",
      "City not found. Skipping...\n",
      "Processing Record 173 : chosica\n",
      "Processing Record 174 : beruwala\n",
      "Processing Record 175 : tiksi\n",
      "City not found. Skipping...\n",
      "Processing Record 176 : kheda\n",
      "Processing Record 177 : veliki preslav\n",
      "Processing Record 178 : smithers\n",
      "Processing Record 179 : kostomuksha\n",
      "Processing Record 180 : leh\n",
      "City not found. Skipping...\n",
      "Processing Record 181 : khatanga\n",
      "Processing Record 182 : port-gentil\n",
      "Processing Record 183 : boali\n",
      "Processing Record 184 : cap-aux-meules\n",
      "Processing Record 185 : waingapu\n",
      "Processing Record 186 : nuuk\n",
      "Processing Record 187 : harnosand\n",
      "Processing Record 188 : altamont\n",
      "Processing Record 189 : flin flon\n",
      "Processing Record 190 : usakos\n",
      "Processing Record 191 : fairview\n",
      "Processing Record 192 : linhares\n",
      "Processing Record 193 : talnakh\n",
      "Processing Record 194 : cabo san lucas\n",
      "Processing Record 195 : grimshaw\n",
      "Processing Record 196 : hofn\n",
      "City not found. Skipping...\n",
      "Processing Record 197 : dingle\n",
      "Processing Record 198 : isangel\n",
      "Processing Record 199 : shasta lake\n",
      "Processing Record 200 : chokurdakh\n",
      "Processing Record 201 : narasannapeta\n",
      "Processing Record 202 : normandin\n",
      "Processing Record 203 : baykit\n",
      "Processing Record 204 : vardo\n",
      "Processing Record 205 : arak\n",
      "City not found. Skipping...\n",
      "Processing Record 206 : fort smith\n",
      "Processing Record 207 : hope\n",
      "Processing Record 208 : san quintin\n",
      "Processing Record 209 : tasiilaq\n",
      "Processing Record 210 : srednekolymsk\n",
      "Processing Record 211 : baijiantan\n",
      "Processing Record 212 : salalah\n",
      "City not found. Skipping...\n",
      "City not found. Skipping...\n",
      "Processing Record 213 : shiyan\n",
      "Processing Record 214 : kalemie\n",
      "Processing Record 215 : san andres\n",
      "Processing Record 216 : pitogo\n",
      "Processing Record 217 : minab\n",
      "City not found. Skipping...\n"
     ]
    }
   ],
   "source": [
    "print(\"Beginning Data Retrieval \")\n",
    "print(\"-----------------------------\")\n",
    "\n",
    "base_url = \"http://api.openweathermap.org/data/2.5/weather?\"\n",
    "units = \"imperial\"\n",
    "query_url = f\"{base_url}appid={weather_api_key}&units={units}&q=\"\n",
    "\n",
    "\n",
    "# For each city name in cities list, do below things...\n",
    "for index, city in enumerate(cities, start = 1):\n",
    "    try:\n",
    "        response = requests.get(query_url + city).json()\n",
    "\n",
    "        city_name_list.append(response[\"name\"])\n",
    "        city_id_list.append(response[\"id\"])\n",
    "        cloudiness_list.append(response[\"clouds\"][\"all\"])\n",
    "        country_list.append(response[\"sys\"][\"country\"])\n",
    "        date_list.append(response[\"dt\"])\n",
    "        humidity_list.append(response[\"main\"][\"humidity\"])\n",
    "        lat_list.append(response[\"coord\"][\"lat\"])\n",
    "        lon_list.append(response[\"coord\"][\"lon\"])\n",
    "        date_temp_list.append(response['main']['temp'])\n",
    "        max_temp_list.append(response['main']['temp_max'])\n",
    "        wind_speed_list.append(response[\"wind\"][\"speed\"])\n",
    "        \n",
    "        index_counter = index_counter + 1\n",
    "            \n",
    "        print(f\"Processing Record {index_counter} : {city}\") \n",
    "  \n",
    "    except(KeyError, IndexError):\n",
    "        print(\"City not found. Skipping...\")\n",
    "        pass\n",
    "    \n",
    "print(\"-----------------------------\")\n",
    "print(\"Data Retrieval Complete\")\n",
    "print(\"-----------------------------\")"
   ]
  },
  {
   "cell_type": "code",
   "execution_count": null,
   "metadata": {},
   "outputs": [],
   "source": []
  },
  {
   "cell_type": "markdown",
   "metadata": {},
   "source": [
    "### Convert Raw Data to DataFrame\n",
    "* Export the city data into a .csv.\n",
    "* Display the DataFrame"
   ]
  },
  {
   "cell_type": "code",
   "execution_count": null,
   "metadata": {},
   "outputs": [],
   "source": [
    "weather_cities = pd.DataFrame({ \n",
    "                \"City\" : city_name_list,\n",
    "                \"City ID\": city_id_list,\n",
    "                \"Country\" : country_list,\n",
    "                \"Latitute\" : lat_list,\n",
    "                \"Longitute\" : lon_list,\n",
    "                \"Date\" : date_list,\n",
    "                \"Cloudiness\" : cloudiness_list,\n",
    "                \"Humidity\" : humidity_list,\n",
    "                \"Temp at Date\" : date_temp_list,\n",
    "                \"Max Temp to Date\":max_temp_list, \n",
    "                \"Wind Speed\" : wind_speed_list })\n",
    "\n",
    "weather_cities"
   ]
  },
  {
   "cell_type": "markdown",
   "metadata": {},
   "source": [
    "## Inspect the data and remove the cities where the humidity > 100%.\n",
    "----\n",
    "Skip this step if there are no cities that have humidity > 100%. "
   ]
  },
  {
   "cell_type": "code",
   "execution_count": null,
   "metadata": {},
   "outputs": [],
   "source": [
    "weather_cities_underhumid100 = weather_cities.loc[(weather_cities[\"Humidity\"] <= 100)]\n",
    "\n",
    "weather_cities_underhumid100"
   ]
  },
  {
   "cell_type": "code",
   "execution_count": null,
   "metadata": {},
   "outputs": [],
   "source": [
    "#  Get the indices of cities that have humidity over 100%.\n",
    "weather_cities_overhumid100 = weather_cities.loc[(weather_cities[\"Humidity\"] > 100)]\n",
    "\n",
    "weather_cities_overhumid100"
   ]
  },
  {
   "cell_type": "code",
   "execution_count": null,
   "metadata": {},
   "outputs": [],
   "source": [
    "# Make a new DataFrame equal to the city data to drop all humidity outliers by index.\n",
    "# Passing \"inplace=False\" will make a copy of the city_data DataFrame, which we call \"clean_city_data\".\n",
    "\n",
    "quartiles = weather_cities_underhumid100[\"Humidity\"].quantile([.25,.5,.75])\n",
    "lowerq = quartiles[0.25]\n",
    "upperq = quartiles[0.75]\n",
    "iqr = upperq-lowerq\n",
    "\n",
    "lower_bound = lowerq - (1.5*iqr)\n",
    "upper_bound = upperq + (1.5*iqr)\n",
    "        \n",
    "weather_cities_cleandata = weather_cities_underhumid100 = weather_cities.loc[(weather_cities[\"Humidity\"] > lower_bound)\n",
    "                                                                             |(weather_cities[\"Humidity\"] < upper_bound) ]\n",
    "weather_cities_cleandata\n",
    "\n",
    "# Save city data into a csv file\n",
    "weather_cities_cleandata.to_csv(\"../output_data/cities.csv\", index = False, header=True)\n"
   ]
  },
  {
   "cell_type": "markdown",
   "metadata": {},
   "source": [
    "## Plotting the Data\n",
    "* Use proper labeling of the plots using plot titles (including date of analysis) and axes labels.\n",
    "* Save the plotted figures as .pngs."
   ]
  },
  {
   "cell_type": "markdown",
   "metadata": {},
   "source": [
    "## Latitude vs. Temperature Plot"
   ]
  },
  {
   "cell_type": "code",
   "execution_count": null,
   "metadata": {},
   "outputs": [],
   "source": [
    "# loop to run plots of latitute vs Temperature, Humidity,Cloudiness & Wind Speed\n",
    "\n",
    "x = weather_cities_cleandata[\"Latitute\"]\n",
    "y = [weather_cities_cleandata[\"Temp at Date\"],weather_cities_cleandata[\"Humidity\"],\n",
    "     weather_cities_cleandata[\"Cloudiness\"],weather_cities_cleandata[\"Wind Speed\"]]\n",
    "variable =[\"Temperature\",\"Humidity\",\"Cloudiness\",\"Wind Speed\"]\n",
    "\n",
    "for n in range(len(y)):\n",
    "        \n",
    "        fig = plt.figure()  \n",
    "        \n",
    "        plt.scatter(x, y[n], facecolor = \"steelblue\", edgecolor = \"black\")\n",
    "        \n",
    "        # Set title\n",
    "        plt.title(f\"City Latitude vs. {variable[n]} at Observed Date (10/16/20)\")\n",
    "\n",
    "        # Set x axis label\n",
    "        plt.xlabel(\"Latitude\")\n",
    "\n",
    "        # Set y axis label\n",
    "        plt.ylabel(f\"{variable[n]}\")\n",
    "\n",
    "        # Set grid line\n",
    "        plt.grid(linestyle='-', linewidth=1, alpha = 0.5)\n",
    "\n",
    "        plt.plot(n)\n",
    "        plt.show()\n",
    "        \n",
    "        # Save the plotted figure as .pngs\n",
    "        fig.savefig(\"../Images/Graph\" + \" \" + str(variable[n]) + \" vs City Latitude\" + \".png\", format=\"PNG\")\n",
    "       "
   ]
  },
  {
   "cell_type": "code",
   "execution_count": null,
   "metadata": {},
   "outputs": [],
   "source": []
  },
  {
   "cell_type": "markdown",
   "metadata": {},
   "source": [
    "## Latitude vs. Humidity Plot"
   ]
  },
  {
   "cell_type": "code",
   "execution_count": null,
   "metadata": {},
   "outputs": [],
   "source": []
  },
  {
   "cell_type": "markdown",
   "metadata": {},
   "source": [
    "## Latitude vs. Cloudiness Plot"
   ]
  },
  {
   "cell_type": "code",
   "execution_count": null,
   "metadata": {},
   "outputs": [],
   "source": []
  },
  {
   "cell_type": "markdown",
   "metadata": {},
   "source": [
    "## Latitude vs. Wind Speed Plot"
   ]
  },
  {
   "cell_type": "code",
   "execution_count": null,
   "metadata": {},
   "outputs": [],
   "source": []
  },
  {
   "cell_type": "markdown",
   "metadata": {},
   "source": [
    "## Linear Regression"
   ]
  },
  {
   "cell_type": "code",
   "execution_count": null,
   "metadata": {},
   "outputs": [],
   "source": [
    "def linear_agression(x,y):\n",
    "            print(f\"The r-squared is : {round(st.pearsonr(x, y)[0],2)}\")\n",
    "            (slope, intercept, rvalue, pvalue, stderr) = linregress(x, y)\n",
    "            regress_values = x * slope + intercept\n",
    "            line_eq = \"y = \" + str(round(slope,2)) + \"x + \" + str(round(intercept,2))\n",
    "            plt.scatter(x, y)\n",
    "            plt.plot(x,regress_values,\"r-\")\n",
    "            return line_eq\n",
    "\n",
    "# Define a fuction for annotating\n",
    "def annotate(line_eq, a, b):\n",
    "            plt.annotate(line_eq,(a,b),fontsize=15,color=\"red\")"
   ]
  },
  {
   "cell_type": "code",
   "execution_count": null,
   "metadata": {},
   "outputs": [],
   "source": [
    "# Create Northern and Southern Hemisphere DataFrames\n",
    "northern_hemisphere = weather_cities_cleandata.loc[weather_cities_cleandata[\"Latitute\"] >= 0,:]\n",
    "southern_hemisphere = weather_cities_cleandata.loc[weather_cities_cleandata[\"Latitute\"] < 0,:]\n",
    "\n",
    "x = [northern_hemisphere[\"Latitute\"],southern_hemisphere[\"Latitute\"]]\n",
    "\n",
    "y_north = [northern_hemisphere[\"Max Temp to Date\"],northern_hemisphere[\"Humidity\"],\n",
    "           northern_hemisphere[\"Cloudiness\"],northern_hemisphere[\"Wind Speed\"]]\n",
    "\n",
    "y_south = [southern_hemisphere[\"Max Temp to Date\"],southern_hemisphere[\"Humidity\"],\n",
    "           southern_hemisphere[\"Cloudiness\"],southern_hemisphere[\"Wind Speed\"]]\n",
    "\n",
    "variable_ln =[\"Max Temperature\",\"Humidity\",\"Cloudiness\",\"Wind Speed\"]"
   ]
  },
  {
   "cell_type": "code",
   "execution_count": null,
   "metadata": {},
   "outputs": [],
   "source": [
    " for n in range(len(y_north)):\n",
    "        \n",
    "        fig = plt.figure()\n",
    "        \n",
    "        # Call an function #1\n",
    "        equation = linear_agression(x[0], y_north[n])\n",
    "\n",
    "        # Call an function #2\n",
    "        annotate(equation, 40, 20)\n",
    "\n",
    "        # Set a title\n",
    "        plt.title(f\"Northern Hemisphere - City Latitude vs. {variable_ln[n]} at Observed Date (10/16/2020) - Linear Regression\")\n",
    "\n",
    "        # Set xlabel\n",
    "        plt.xlabel(\"Latitude\")\n",
    "\n",
    "        # Set ylabel\n",
    "        plt.ylabel(f\"{variable_ln[n]}\")\n",
    "\n",
    "        plt.plot(n)\n",
    "        plt.show()\n",
    "\n",
    "        # Save the figure\n",
    "        fig.savefig(\"../Images/Linear Regression\" + \" \" + str(variable_ln[n]) + \" vs North_City Latitude\" + \".png\", format=\"PNG\")\n",
    "\n",
    "        \n",
    "        "
   ]
  },
  {
   "cell_type": "code",
   "execution_count": null,
   "metadata": {},
   "outputs": [],
   "source": [
    "for n in range(len(y_north)):\n",
    "        \n",
    "        fig = plt.figure()\n",
    "        \n",
    "        # Call an function #1\n",
    "        equation = linear_agression(x[1], y_south[n])\n",
    "\n",
    "        # Call an function #2\n",
    "        annotate(equation, -45, 20)\n",
    "\n",
    "        # Set a title\n",
    "        plt.title(f\"Southern Hemisphere - City Latitude vs. {variable_ln[n]} at Observed Date (10/16/2020) - Linear Regression\")\n",
    "\n",
    "        # Set xlabel\n",
    "        plt.xlabel(\"Latitude\")\n",
    "\n",
    "        # Set ylabel\n",
    "        plt.ylabel(f\"{variable_ln[n]}\")\n",
    "\n",
    "        plt.plot(n)\n",
    "        plt.show()\n",
    "\n",
    "        # Save the figure\n",
    "        fig.savefig(\"../Images/Linear Regression\" + \" \" + str(variable_ln[n]) + \" vs South_City Latitude\" + \".png\", format=\"PNG\")\n",
    "\n",
    "        "
   ]
  },
  {
   "cell_type": "code",
   "execution_count": null,
   "metadata": {},
   "outputs": [],
   "source": [
    "print(\"COMMENT:\")\n",
    "print(\"-------------------------------------------------------------------------------------------------------------------------\")\n",
    "print(f\"basing on r-squared and the slope of linear regression line: it can conluded that:\")\n",
    "print(f\"                 \")\n",
    "print(f\"03 weather features: Humidity, Cloudiness & Wind Speed can not be explained by City latitues in both Hemispheres.\")\n",
    "print(f\"their r-squares are very small or close to zero.\")\n",
    "print(f\"                 \")\n",
    "print(f\"but Temperature can be strongly explained by City latitues in both Hemispheres.\")\n",
    "print(f\"its r-squares are all over 0.7 in both Hemisphere, but it is higher for those of northern cities.\")\n",
    "print(f\"                 \")\n",
    "print(f\"the sign of r-squares and slopes of linear regression are opposite between the North and the South.\")\n",
    "print(f\"it means: when latitude increases, temperature decreases in cities of Northern Hemisphere but increases in cities of Southern Hemisphere.\")\n",
    "print(f\"                 \")\n",
    "print(\"-------------------------------------------------------------------------------------------------------------------------\")"
   ]
  },
  {
   "cell_type": "markdown",
   "metadata": {},
   "source": [
    "#  Northern Hemisphere - Max Temp vs. Latitude Linear Regression"
   ]
  },
  {
   "cell_type": "markdown",
   "metadata": {},
   "source": [
    "####  Southern Hemisphere - Max Temp vs. Latitude Linear Regression"
   ]
  },
  {
   "cell_type": "markdown",
   "metadata": {},
   "source": [
    "####  Northern Hemisphere - Humidity (%) vs. Latitude Linear Regression"
   ]
  },
  {
   "cell_type": "markdown",
   "metadata": {},
   "source": [
    "####  Southern Hemisphere - Humidity (%) vs. Latitude Linear Regression"
   ]
  },
  {
   "cell_type": "markdown",
   "metadata": {},
   "source": [
    "####  Northern Hemisphere - Cloudiness (%) vs. Latitude Linear Regression"
   ]
  },
  {
   "cell_type": "markdown",
   "metadata": {},
   "source": [
    "####  Southern Hemisphere - Cloudiness (%) vs. Latitude Linear Regression"
   ]
  },
  {
   "cell_type": "markdown",
   "metadata": {},
   "source": [
    "####  Northern Hemisphere - Wind Speed (mph) vs. Latitude Linear Regression"
   ]
  },
  {
   "cell_type": "markdown",
   "metadata": {},
   "source": [
    "####  Southern Hemisphere - Wind Speed (mph) vs. Latitude Linear Regression"
   ]
  },
  {
   "cell_type": "code",
   "execution_count": null,
   "metadata": {},
   "outputs": [],
   "source": []
  }
 ],
 "metadata": {
  "anaconda-cloud": {},
  "kernel_info": {
   "name": "python3"
  },
  "kernelspec": {
   "display_name": "Python 3",
   "language": "python",
   "name": "python3"
  },
  "language_info": {
   "codemirror_mode": {
    "name": "ipython",
    "version": 3
   },
   "file_extension": ".py",
   "mimetype": "text/x-python",
   "name": "python",
   "nbconvert_exporter": "python",
   "pygments_lexer": "ipython3",
   "version": "3.8.5"
  },
  "latex_envs": {
   "LaTeX_envs_menu_present": true,
   "autoclose": false,
   "autocomplete": true,
   "bibliofile": "biblio.bib",
   "cite_by": "apalike",
   "current_citInitial": 1,
   "eqLabelWithNumbers": true,
   "eqNumInitial": 1,
   "hotkeys": {
    "equation": "Ctrl-E",
    "itemize": "Ctrl-I"
   },
   "labels_anchors": false,
   "latex_user_defs": false,
   "report_style_numbering": false,
   "user_envs_cfg": false
  },
  "nteract": {
   "version": "0.12.3"
  }
 },
 "nbformat": 4,
 "nbformat_minor": 2
}

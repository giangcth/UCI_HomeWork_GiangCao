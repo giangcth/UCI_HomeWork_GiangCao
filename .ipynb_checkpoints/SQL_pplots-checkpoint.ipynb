{
 "cells": [
  {
   "cell_type": "code",
   "execution_count": 1,
   "metadata": {},
   "outputs": [],
   "source": [
    "import warnings\n",
    "warnings.filterwarnings('ignore')\n",
    "\n"
   ]
  },
  {
   "cell_type": "code",
   "execution_count": 2,
   "metadata": {},
   "outputs": [],
   "source": [
    "%matplotlib inline\n",
    "from matplotlib import pyplot as plt\n",
    "import numpy as np\n",
    "import scipy.stats as stats\n",
    "\n"
   ]
  },
  {
   "cell_type": "code",
   "execution_count": 9,
   "metadata": {},
   "outputs": [],
   "source": [
    "# Modules\n",
    "import os\n",
    "import csv\n",
    "import pandas as pd"
   ]
  },
  {
   "cell_type": "code",
   "execution_count": 12,
   "metadata": {},
   "outputs": [
    {
     "data": {
      "text/plain": [
       "<_csv.reader at 0x1f2db057700>"
      ]
     },
     "execution_count": 12,
     "metadata": {},
     "output_type": "execute_result"
    }
   ],
   "source": [
    "# # Read csv file:\n",
    "\n",
    "# csvpath = os.path.join(\"..\", \"SQL Challenge\",\"dataset_HR.csv\")\n",
    "\n",
    "# csvpath\n",
    "\n",
    "# with open(csvpath) as csvfile:\n",
    "#     csvreader = csv.reader(csvfile, delimiter=\",\")\n",
    "\n",
    "# csvreader"
   ]
  },
  {
   "cell_type": "code",
   "execution_count": 57,
   "metadata": {},
   "outputs": [],
   "source": [
    "# SQL Alchemy\n",
    "from sqlalchemy import create_engine"
   ]
  },
  {
   "cell_type": "code",
   "execution_count": 60,
   "metadata": {},
   "outputs": [
    {
     "ename": "NoSuchModuleError",
     "evalue": "Can't load plugin: sqlalchemy.dialects:postpresql",
     "output_type": "error",
     "traceback": [
      "\u001b[1;31m---------------------------------------------------------------------------\u001b[0m",
      "\u001b[1;31mNoSuchModuleError\u001b[0m                         Traceback (most recent call last)",
      "\u001b[1;32m<ipython-input-60-703839e409c0>\u001b[0m in \u001b[0;36m<module>\u001b[1;34m\u001b[0m\n\u001b[0;32m      1\u001b[0m \u001b[1;31m# Create Engine for HR dataset\u001b[0m\u001b[1;33m\u001b[0m\u001b[1;33m\u001b[0m\u001b[1;33m\u001b[0m\u001b[0m\n\u001b[0;32m      2\u001b[0m \u001b[0mHR_database_path\u001b[0m \u001b[1;33m=\u001b[0m \u001b[1;34m\"../HW/dataset_HR.\"\u001b[0m\u001b[1;33m\u001b[0m\u001b[1;33m\u001b[0m\u001b[0m\n\u001b[1;32m----> 3\u001b[1;33m \u001b[0mengine\u001b[0m \u001b[1;33m=\u001b[0m \u001b[0mcreate_engine\u001b[0m\u001b[1;33m(\u001b[0m\u001b[1;34mf\"postpresql://localhost:52959/dataset_HR\"\u001b[0m\u001b[1;33m)\u001b[0m\u001b[1;33m\u001b[0m\u001b[1;33m\u001b[0m\u001b[0m\n\u001b[0m\u001b[0;32m      4\u001b[0m \u001b[0mconn\u001b[0m \u001b[1;33m=\u001b[0m \u001b[0mengine\u001b[0m\u001b[1;33m.\u001b[0m\u001b[0mconnect\u001b[0m\u001b[1;33m(\u001b[0m\u001b[1;33m)\u001b[0m\u001b[1;33m\u001b[0m\u001b[1;33m\u001b[0m\u001b[0m\n",
      "\u001b[1;32m~\\Anaconda3\\envs\\pythondata\\lib\\site-packages\\sqlalchemy\\engine\\__init__.py\u001b[0m in \u001b[0;36mcreate_engine\u001b[1;34m(*args, **kwargs)\u001b[0m\n\u001b[0;32m    498\u001b[0m     \u001b[0mstrategy\u001b[0m \u001b[1;33m=\u001b[0m \u001b[0mkwargs\u001b[0m\u001b[1;33m.\u001b[0m\u001b[0mpop\u001b[0m\u001b[1;33m(\u001b[0m\u001b[1;34m\"strategy\"\u001b[0m\u001b[1;33m,\u001b[0m \u001b[0mdefault_strategy\u001b[0m\u001b[1;33m)\u001b[0m\u001b[1;33m\u001b[0m\u001b[1;33m\u001b[0m\u001b[0m\n\u001b[0;32m    499\u001b[0m     \u001b[0mstrategy\u001b[0m \u001b[1;33m=\u001b[0m \u001b[0mstrategies\u001b[0m\u001b[1;33m.\u001b[0m\u001b[0mstrategies\u001b[0m\u001b[1;33m[\u001b[0m\u001b[0mstrategy\u001b[0m\u001b[1;33m]\u001b[0m\u001b[1;33m\u001b[0m\u001b[1;33m\u001b[0m\u001b[0m\n\u001b[1;32m--> 500\u001b[1;33m     \u001b[1;32mreturn\u001b[0m \u001b[0mstrategy\u001b[0m\u001b[1;33m.\u001b[0m\u001b[0mcreate\u001b[0m\u001b[1;33m(\u001b[0m\u001b[1;33m*\u001b[0m\u001b[0margs\u001b[0m\u001b[1;33m,\u001b[0m \u001b[1;33m**\u001b[0m\u001b[0mkwargs\u001b[0m\u001b[1;33m)\u001b[0m\u001b[1;33m\u001b[0m\u001b[1;33m\u001b[0m\u001b[0m\n\u001b[0m\u001b[0;32m    501\u001b[0m \u001b[1;33m\u001b[0m\u001b[0m\n\u001b[0;32m    502\u001b[0m \u001b[1;33m\u001b[0m\u001b[0m\n",
      "\u001b[1;32m~\\Anaconda3\\envs\\pythondata\\lib\\site-packages\\sqlalchemy\\engine\\strategies.py\u001b[0m in \u001b[0;36mcreate\u001b[1;34m(self, name_or_url, **kwargs)\u001b[0m\n\u001b[0;32m     59\u001b[0m         \u001b[0mkwargs\u001b[0m\u001b[1;33m.\u001b[0m\u001b[0mpop\u001b[0m\u001b[1;33m(\u001b[0m\u001b[1;34m\"plugins\"\u001b[0m\u001b[1;33m,\u001b[0m \u001b[1;32mNone\u001b[0m\u001b[1;33m)\u001b[0m\u001b[1;33m\u001b[0m\u001b[1;33m\u001b[0m\u001b[0m\n\u001b[0;32m     60\u001b[0m \u001b[1;33m\u001b[0m\u001b[0m\n\u001b[1;32m---> 61\u001b[1;33m         \u001b[0mentrypoint\u001b[0m \u001b[1;33m=\u001b[0m \u001b[0mu\u001b[0m\u001b[1;33m.\u001b[0m\u001b[0m_get_entrypoint\u001b[0m\u001b[1;33m(\u001b[0m\u001b[1;33m)\u001b[0m\u001b[1;33m\u001b[0m\u001b[1;33m\u001b[0m\u001b[0m\n\u001b[0m\u001b[0;32m     62\u001b[0m         \u001b[0mdialect_cls\u001b[0m \u001b[1;33m=\u001b[0m \u001b[0mentrypoint\u001b[0m\u001b[1;33m.\u001b[0m\u001b[0mget_dialect_cls\u001b[0m\u001b[1;33m(\u001b[0m\u001b[0mu\u001b[0m\u001b[1;33m)\u001b[0m\u001b[1;33m\u001b[0m\u001b[1;33m\u001b[0m\u001b[0m\n\u001b[0;32m     63\u001b[0m \u001b[1;33m\u001b[0m\u001b[0m\n",
      "\u001b[1;32m~\\Anaconda3\\envs\\pythondata\\lib\\site-packages\\sqlalchemy\\engine\\url.py\u001b[0m in \u001b[0;36m_get_entrypoint\u001b[1;34m(self)\u001b[0m\n\u001b[0;32m    170\u001b[0m         \u001b[1;32melse\u001b[0m\u001b[1;33m:\u001b[0m\u001b[1;33m\u001b[0m\u001b[1;33m\u001b[0m\u001b[0m\n\u001b[0;32m    171\u001b[0m             \u001b[0mname\u001b[0m \u001b[1;33m=\u001b[0m \u001b[0mself\u001b[0m\u001b[1;33m.\u001b[0m\u001b[0mdrivername\u001b[0m\u001b[1;33m.\u001b[0m\u001b[0mreplace\u001b[0m\u001b[1;33m(\u001b[0m\u001b[1;34m\"+\"\u001b[0m\u001b[1;33m,\u001b[0m \u001b[1;34m\".\"\u001b[0m\u001b[1;33m)\u001b[0m\u001b[1;33m\u001b[0m\u001b[1;33m\u001b[0m\u001b[0m\n\u001b[1;32m--> 172\u001b[1;33m         \u001b[0mcls\u001b[0m \u001b[1;33m=\u001b[0m \u001b[0mregistry\u001b[0m\u001b[1;33m.\u001b[0m\u001b[0mload\u001b[0m\u001b[1;33m(\u001b[0m\u001b[0mname\u001b[0m\u001b[1;33m)\u001b[0m\u001b[1;33m\u001b[0m\u001b[1;33m\u001b[0m\u001b[0m\n\u001b[0m\u001b[0;32m    173\u001b[0m         \u001b[1;31m# check for legacy dialects that\u001b[0m\u001b[1;33m\u001b[0m\u001b[1;33m\u001b[0m\u001b[1;33m\u001b[0m\u001b[0m\n\u001b[0;32m    174\u001b[0m         \u001b[1;31m# would return a module with 'dialect' as the\u001b[0m\u001b[1;33m\u001b[0m\u001b[1;33m\u001b[0m\u001b[1;33m\u001b[0m\u001b[0m\n",
      "\u001b[1;32m~\\Anaconda3\\envs\\pythondata\\lib\\site-packages\\sqlalchemy\\util\\langhelpers.py\u001b[0m in \u001b[0;36mload\u001b[1;34m(self, name)\u001b[0m\n\u001b[0;32m    265\u001b[0m                 \u001b[1;32mreturn\u001b[0m \u001b[0mimpl\u001b[0m\u001b[1;33m.\u001b[0m\u001b[0mload\u001b[0m\u001b[1;33m(\u001b[0m\u001b[1;33m)\u001b[0m\u001b[1;33m\u001b[0m\u001b[1;33m\u001b[0m\u001b[0m\n\u001b[0;32m    266\u001b[0m \u001b[1;33m\u001b[0m\u001b[0m\n\u001b[1;32m--> 267\u001b[1;33m         raise exc.NoSuchModuleError(\n\u001b[0m\u001b[0;32m    268\u001b[0m             \u001b[1;34m\"Can't load plugin: %s:%s\"\u001b[0m \u001b[1;33m%\u001b[0m \u001b[1;33m(\u001b[0m\u001b[0mself\u001b[0m\u001b[1;33m.\u001b[0m\u001b[0mgroup\u001b[0m\u001b[1;33m,\u001b[0m \u001b[0mname\u001b[0m\u001b[1;33m)\u001b[0m\u001b[1;33m\u001b[0m\u001b[1;33m\u001b[0m\u001b[0m\n\u001b[0;32m    269\u001b[0m         )\n",
      "\u001b[1;31mNoSuchModuleError\u001b[0m: Can't load plugin: sqlalchemy.dialects:postpresql"
     ]
    }
   ],
   "source": [
    "# Create Engine for HR dataset\n",
    "HR_database_path = \"../HW/dataset_HR.\"\n",
    "engine = create_engine(f\"postpresql://localhost:52959/dataset_HR\")\n",
    "conn = engine.connect()"
   ]
  },
  {
   "cell_type": "code",
   "execution_count": null,
   "metadata": {},
   "outputs": [],
   "source": [
    "HR_df = pd.read_sql(sql=\"SELECT * FROM dataset_HR\", con=conn)"
   ]
  },
  {
   "cell_type": "code",
   "execution_count": 11,
   "metadata": {},
   "outputs": [
    {
     "data": {
      "text/html": [
       "<div>\n",
       "<style scoped>\n",
       "    .dataframe tbody tr th:only-of-type {\n",
       "        vertical-align: middle;\n",
       "    }\n",
       "\n",
       "    .dataframe tbody tr th {\n",
       "        vertical-align: top;\n",
       "    }\n",
       "\n",
       "    .dataframe thead th {\n",
       "        text-align: right;\n",
       "    }\n",
       "</style>\n",
       "<table border=\"1\" class=\"dataframe\">\n",
       "  <thead>\n",
       "    <tr style=\"text-align: right;\">\n",
       "      <th></th>\n",
       "      <th>emp_no</th>\n",
       "      <th>first_name</th>\n",
       "      <th>last_name</th>\n",
       "      <th>birth_date</th>\n",
       "      <th>sex</th>\n",
       "      <th>hire_date</th>\n",
       "      <th>dept_no</th>\n",
       "      <th>dept_name</th>\n",
       "      <th>emp_title</th>\n",
       "      <th>title_name</th>\n",
       "      <th>salary</th>\n",
       "    </tr>\n",
       "  </thead>\n",
       "  <tbody>\n",
       "    <tr>\n",
       "      <th>0</th>\n",
       "      <td>10005</td>\n",
       "      <td>Kyoichi</td>\n",
       "      <td>Maliniak</td>\n",
       "      <td>1955-01-21</td>\n",
       "      <td>M</td>\n",
       "      <td>1989-09-12</td>\n",
       "      <td>d003</td>\n",
       "      <td>Human Resources</td>\n",
       "      <td>s0001</td>\n",
       "      <td>Staff</td>\n",
       "      <td>78228</td>\n",
       "    </tr>\n",
       "    <tr>\n",
       "      <th>1</th>\n",
       "      <td>10010</td>\n",
       "      <td>Duangkaew</td>\n",
       "      <td>Piveteau</td>\n",
       "      <td>1963-06-01</td>\n",
       "      <td>F</td>\n",
       "      <td>1989-08-24</td>\n",
       "      <td>d006</td>\n",
       "      <td>Quality Management</td>\n",
       "      <td>e0002</td>\n",
       "      <td>Engineer</td>\n",
       "      <td>72488</td>\n",
       "    </tr>\n",
       "    <tr>\n",
       "      <th>2</th>\n",
       "      <td>10010</td>\n",
       "      <td>Duangkaew</td>\n",
       "      <td>Piveteau</td>\n",
       "      <td>1963-06-01</td>\n",
       "      <td>F</td>\n",
       "      <td>1989-08-24</td>\n",
       "      <td>d004</td>\n",
       "      <td>Production</td>\n",
       "      <td>e0002</td>\n",
       "      <td>Engineer</td>\n",
       "      <td>72488</td>\n",
       "    </tr>\n",
       "    <tr>\n",
       "      <th>3</th>\n",
       "      <td>10011</td>\n",
       "      <td>Mary</td>\n",
       "      <td>Sluis</td>\n",
       "      <td>1953-11-07</td>\n",
       "      <td>F</td>\n",
       "      <td>1990-01-22</td>\n",
       "      <td>d009</td>\n",
       "      <td>Customer Service</td>\n",
       "      <td>s0001</td>\n",
       "      <td>Staff</td>\n",
       "      <td>42365</td>\n",
       "    </tr>\n",
       "    <tr>\n",
       "      <th>4</th>\n",
       "      <td>10035</td>\n",
       "      <td>Alain</td>\n",
       "      <td>Chappelet</td>\n",
       "      <td>1953-02-08</td>\n",
       "      <td>M</td>\n",
       "      <td>1988-09-05</td>\n",
       "      <td>d004</td>\n",
       "      <td>Production</td>\n",
       "      <td>e0003</td>\n",
       "      <td>Senior Engineer</td>\n",
       "      <td>41538</td>\n",
       "    </tr>\n",
       "    <tr>\n",
       "      <th>...</th>\n",
       "      <td>...</td>\n",
       "      <td>...</td>\n",
       "      <td>...</td>\n",
       "      <td>...</td>\n",
       "      <td>...</td>\n",
       "      <td>...</td>\n",
       "      <td>...</td>\n",
       "      <td>...</td>\n",
       "      <td>...</td>\n",
       "      <td>...</td>\n",
       "      <td>...</td>\n",
       "    </tr>\n",
       "    <tr>\n",
       "      <th>331598</th>\n",
       "      <td>499948</td>\n",
       "      <td>Cordelia</td>\n",
       "      <td>Paludetto</td>\n",
       "      <td>1953-05-24</td>\n",
       "      <td>M</td>\n",
       "      <td>1993-01-28</td>\n",
       "      <td>d004</td>\n",
       "      <td>Production</td>\n",
       "      <td>e0002</td>\n",
       "      <td>Engineer</td>\n",
       "      <td>40000</td>\n",
       "    </tr>\n",
       "    <tr>\n",
       "      <th>331599</th>\n",
       "      <td>499972</td>\n",
       "      <td>Katsuo</td>\n",
       "      <td>Leuchs</td>\n",
       "      <td>1957-07-25</td>\n",
       "      <td>F</td>\n",
       "      <td>1989-11-23</td>\n",
       "      <td>d005</td>\n",
       "      <td>Development</td>\n",
       "      <td>e0003</td>\n",
       "      <td>Senior Engineer</td>\n",
       "      <td>41002</td>\n",
       "    </tr>\n",
       "    <tr>\n",
       "      <th>331600</th>\n",
       "      <td>499985</td>\n",
       "      <td>Gila</td>\n",
       "      <td>Lukaszewicz</td>\n",
       "      <td>1964-12-26</td>\n",
       "      <td>M</td>\n",
       "      <td>1997-02-11</td>\n",
       "      <td>d008</td>\n",
       "      <td>Research</td>\n",
       "      <td>s0001</td>\n",
       "      <td>Staff</td>\n",
       "      <td>40000</td>\n",
       "    </tr>\n",
       "    <tr>\n",
       "      <th>331601</th>\n",
       "      <td>499987</td>\n",
       "      <td>Rimli</td>\n",
       "      <td>Dusink</td>\n",
       "      <td>1961-09-05</td>\n",
       "      <td>F</td>\n",
       "      <td>1998-09-20</td>\n",
       "      <td>d007</td>\n",
       "      <td>Sales</td>\n",
       "      <td>s0001</td>\n",
       "      <td>Staff</td>\n",
       "      <td>52282</td>\n",
       "    </tr>\n",
       "    <tr>\n",
       "      <th>331602</th>\n",
       "      <td>499998</td>\n",
       "      <td>Patricia</td>\n",
       "      <td>Breugel</td>\n",
       "      <td>1956-09-05</td>\n",
       "      <td>M</td>\n",
       "      <td>1993-10-13</td>\n",
       "      <td>d002</td>\n",
       "      <td>Finance</td>\n",
       "      <td>s0001</td>\n",
       "      <td>Staff</td>\n",
       "      <td>40000</td>\n",
       "    </tr>\n",
       "  </tbody>\n",
       "</table>\n",
       "<p>331603 rows × 11 columns</p>\n",
       "</div>"
      ],
      "text/plain": [
       "        emp_no first_name    last_name  birth_date sex   hire_date dept_no  \\\n",
       "0        10005    Kyoichi     Maliniak  1955-01-21   M  1989-09-12    d003   \n",
       "1        10010  Duangkaew     Piveteau  1963-06-01   F  1989-08-24    d006   \n",
       "2        10010  Duangkaew     Piveteau  1963-06-01   F  1989-08-24    d004   \n",
       "3        10011       Mary        Sluis  1953-11-07   F  1990-01-22    d009   \n",
       "4        10035      Alain    Chappelet  1953-02-08   M  1988-09-05    d004   \n",
       "...        ...        ...          ...         ...  ..         ...     ...   \n",
       "331598  499948   Cordelia    Paludetto  1953-05-24   M  1993-01-28    d004   \n",
       "331599  499972     Katsuo       Leuchs  1957-07-25   F  1989-11-23    d005   \n",
       "331600  499985       Gila  Lukaszewicz  1964-12-26   M  1997-02-11    d008   \n",
       "331601  499987      Rimli       Dusink  1961-09-05   F  1998-09-20    d007   \n",
       "331602  499998   Patricia      Breugel  1956-09-05   M  1993-10-13    d002   \n",
       "\n",
       "                 dept_name emp_title       title_name  salary  \n",
       "0          Human Resources     s0001            Staff   78228  \n",
       "1       Quality Management     e0002         Engineer   72488  \n",
       "2               Production     e0002         Engineer   72488  \n",
       "3         Customer Service     s0001            Staff   42365  \n",
       "4               Production     e0003  Senior Engineer   41538  \n",
       "...                    ...       ...              ...     ...  \n",
       "331598          Production     e0002         Engineer   40000  \n",
       "331599         Development     e0003  Senior Engineer   41002  \n",
       "331600            Research     s0001            Staff   40000  \n",
       "331601               Sales     s0001            Staff   52282  \n",
       "331602             Finance     s0001            Staff   40000  \n",
       "\n",
       "[331603 rows x 11 columns]"
      ]
     },
     "execution_count": 11,
     "metadata": {},
     "output_type": "execute_result"
    }
   ],
   "source": [
    "# HR_df = pd.read_csv(csvpath)\n",
    "\n",
    "# HR_df"
   ]
  },
  {
   "cell_type": "code",
   "execution_count": 18,
   "metadata": {},
   "outputs": [
    {
     "data": {
      "image/png": "[encoded data removed]",
      "text/plain": [
       "<Figure size 432x288 with 2 Axes>"
      ]
     },
     "metadata": {
      "needs_background": "light"
     },
     "output_type": "display_data"
    }
   ],
   "source": [
    "\n",
    "x_data = HR_df[\"salary\"]\n",
    "\n",
    "# Scatter Plot of Data\n",
    "plt.subplot(2, 1, 1)\n",
    "plt.scatter(range(len(x_data)), x_data, label=\"Employee Salary\")\n",
    "    \n",
    "plt.legend()\n",
    "\n",
    "# Histogram Plot of Data\n",
    "plt.subplot(2, 1, 2)\n",
    "plt.hist(x_data, 10, density=True, alpha=0.7, label=\"Employee Salary\")\n",
    "    \n",
    "plt.axvline(x_data.mean(), color='r', linestyle='dashed', linewidth=1)\n",
    "plt.legend()  \n",
    "    \n",
    "plt.show()   \n"
   ]
  },
  {
   "cell_type": "code",
   "execution_count": 56,
   "metadata": {},
   "outputs": [
    {
     "data": {
      "text/plain": [
       "title_name\n",
       "Assistant Engineer    48615.07\n",
       "Engineer              48533.34\n",
       "Manager               51531.04\n",
       "Senior Engineer       48505.71\n",
       "Senior Staff          58557.39\n",
       "Staff                 58460.05\n",
       "Technique Leader      48574.32\n",
       "Name: salary, dtype: float64"
      ]
     },
     "execution_count": 56,
     "metadata": {},
     "output_type": "execute_result"
    }
   ],
   "source": [
    "x_pertitle = round(HR_df.groupby([\"title_name\"]).mean()[\"salary\"],2)\n",
    "\n",
    "x_pertitle"
   ]
  },
  {
   "cell_type": "code",
   "execution_count": 51,
   "metadata": {},
   "outputs": [
    {
     "data": {
      "image/png": "[encoded data removed]",
      "text/plain": [
       "<Figure size 2160x360 with 1 Axes>"
      ]
     },
     "metadata": {
      "needs_background": "light"
     },
     "output_type": "display_data"
    }
   ],
   "source": [
    "x_pertitle.plot(kind=\"bar\", figsize=(30,5), align=\"center\")\n",
    "\n",
    "# Set a title for the chart\n",
    "plt.title(\"AVERAGE SALARY PER EMPLOYEE TITLE\")\n",
    "plt.xlabel(\"Employee Title\")\n",
    "plt.ylabel(\"US Dollars\")\n",
    "\n",
    "plt.grid()\n",
    "plt.show()\n"
   ]
  },
  {
   "cell_type": "code",
   "execution_count": null,
   "metadata": {},
   "outputs": [],
   "source": []
  }
 ],
 "metadata": {
  "kernelspec": {
   "display_name": "Python 3",
   "language": "python",
   "name": "python3"
  },
  "language_info": {
   "codemirror_mode": {
    "name": "ipython",
    "version": 3
   },
   "file_extension": ".py",
   "mimetype": "text/x-python",
   "name": "python",
   "nbconvert_exporter": "python",
   "pygments_lexer": "ipython3",
   "version": "3.8.3"
  }
 },
 "nbformat": 4,
 "nbformat_minor": 4
}
